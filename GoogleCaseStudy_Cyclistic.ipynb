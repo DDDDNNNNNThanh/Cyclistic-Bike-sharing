{
  "nbformat": 4,
  "nbformat_minor": 0,
  "metadata": {
    "colab": {
      "provenance": []
    },
    "kernelspec": {
      "name": "python3",
      "display_name": "Python 3"
    },
    "language_info": {
      "name": "python"
    }
  },
  "cells": [
    {
      "cell_type": "code",
      "execution_count": 1,
      "metadata": {
        "colab": {
          "base_uri": "https://localhost:8080/"
        },
        "id": "55_bZFAIX9-3",
        "outputId": "2578aaa4-6359-4cf3-c56b-940b86c236a9"
      },
      "outputs": [
        {
          "output_type": "stream",
          "name": "stdout",
          "text": [
            "Drive already mounted at /content/drive; to attempt to forcibly remount, call drive.mount(\"/content/drive\", force_remount=True).\n"
          ]
        }
      ],
      "source": [
        "from google.colab import drive\n",
        "drive.mount('/content/drive')"
      ]
    },
    {
      "cell_type": "code",
      "source": [
        "# Import libraries\n",
        "import numpy as np\n",
        "import pandas as pd \n",
        "import matplotlib.pyplot as plt\n",
        "import seaborn as sns \n",
        "import datetime"
      ],
      "metadata": {
        "id": "7EV8XQDEYVtm"
      },
      "execution_count": 2,
      "outputs": []
    },
    {
      "cell_type": "code",
      "source": [
        "# Importing the files\n",
        "case_file_1 = pd.read_csv(\"/content/drive/MyDrive/Bike_Share/202007-divvy-tripdata.csv\")\n",
        "case_file_2 = pd.read_csv(\"/content/drive/MyDrive/Bike_Share/202008-divvy-tripdata.csv\")\n",
        "case_file_3 = pd.read_csv(\"/content/drive/MyDrive/Bike_Share/202009-divvy-tripdata.csv\")\n",
        "case_file_4 = pd.read_csv(\"/content/drive/MyDrive/Bike_Share/202010-divvy-tripdata.csv\")\n",
        "case_file_5 = pd.read_csv(\"/content/drive/MyDrive/Bike_Share/202011-divvy-tripdata.csv\")\n",
        "case_file_6 = pd.read_csv(\"/content/drive/MyDrive/Bike_Share/202012-divvy-tripdata.csv\")\n",
        "case_file_7 = pd.read_csv(\"/content/drive/MyDrive/Bike_Share/202101-divvy-tripdata.csv\")\n",
        "case_file_8 = pd.read_csv(\"/content/drive/MyDrive/Bike_Share/202102-divvy-tripdata.csv\")\n",
        "case_file_9 = pd.read_csv(\"/content/drive/MyDrive/Bike_Share/202103-divvy-tripdata.csv\")\n",
        "case_file_10 = pd.read_csv(\"/content/drive/MyDrive/Bike_Share/202104-divvy-tripdata.csv\")\n",
        "case_file_11 = pd.read_csv(\"/content/drive/MyDrive/Bike_Share/202105-divvy-tripdata.csv\")\n",
        "case_file_12 = pd.read_csv(\"/content/drive/MyDrive/Bike_Share/202106-divvy-tripdata.csv\")"
      ],
      "metadata": {
        "id": "dzNAw4oWZKuk"
      },
      "execution_count": 3,
      "outputs": []
    },
    {
      "cell_type": "code",
      "source": [
        "# Merging all the dataframes into a single dataframe.\n",
        "all_dfs = [case_file_1, case_file_2, case_file_3, case_file_4, case_file_5, case_file_6, case_file_7, case_file_8, case_file_9, case_file_10, case_file_11, case_file_12]\n",
        "case_file = pd.concat(all_dfs)"
      ],
      "metadata": {
        "id": "jtDRtOAegQlB"
      },
      "execution_count": 4,
      "outputs": []
    },
    {
      "cell_type": "code",
      "source": [
        "# Reading the merged file\n",
        "case_file"
      ],
      "metadata": {
        "colab": {
          "base_uri": "https://localhost:8080/",
          "height": 834
        },
        "id": "2ZAKyl_vgV5H",
        "outputId": "c4a14798-69c4-48a5-fc0b-cac4eab5a8b6"
      },
      "execution_count": 5,
      "outputs": [
        {
          "output_type": "execute_result",
          "data": {
            "text/plain": [
              "                 ride_id  rideable_type           started_at  \\\n",
              "0       762198876D69004D    docked_bike  2020-07-09 15:22:02   \n",
              "1       BEC9C9FBA0D4CF1B    docked_bike  2020-07-24 23:56:30   \n",
              "2       D2FD8EA432C77EC1    docked_bike  2020-07-08 19:49:07   \n",
              "3       54AE594E20B35881    docked_bike  2020-07-17 19:06:42   \n",
              "4       54025FDC7440B56F    docked_bike  2020-07-04 10:39:57   \n",
              "...                  ...            ...                  ...   \n",
              "729590  CB282292CCFCE74F  electric_bike  2021-06-14 00:17:31   \n",
              "729591  47BD346FAFB9BE6D   classic_bike  2021-06-30 17:35:10   \n",
              "729592  52467C23D17C6AFE   classic_bike  2021-06-13 19:24:30   \n",
              "729593  7DF6D74420D7D9E6  electric_bike  2021-06-08 15:44:28   \n",
              "729594  0C01F8BA99E512E5  electric_bike  2021-06-03 16:18:38   \n",
              "\n",
              "                   ended_at             start_station_name start_station_id  \\\n",
              "0       2020-07-09 15:25:52          Ritchie Ct & Banks St            180.0   \n",
              "1       2020-07-25 00:20:17         Halsted St & Roscoe St            299.0   \n",
              "2       2020-07-08 19:56:22  Lake Shore Dr & Diversey Pkwy            329.0   \n",
              "3       2020-07-17 19:27:38       LaSalle St & Illinois St            181.0   \n",
              "4       2020-07-04 10:45:05     Lake Shore Dr & North Blvd            268.0   \n",
              "...                     ...                            ...              ...   \n",
              "729590  2021-06-14 00:56:46             Wells St & Polk St           SL-011   \n",
              "729591  2021-06-30 17:43:20         Clark St & Chicago Ave            13303   \n",
              "729592  2021-06-13 19:34:11          Indiana Ave & 26th St     TA1307000005   \n",
              "729593  2021-06-08 16:15:01         Clark St & Chicago Ave            13303   \n",
              "729594  2021-06-03 16:47:49         Clark St & Chicago Ave            13303   \n",
              "\n",
              "                 end_station_name end_station_id  start_lat  start_lng  \\\n",
              "0        Wells St & Evergreen Ave          291.0  41.906866 -87.626217   \n",
              "1            Broadway & Ridge Ave          461.0  41.943670 -87.648950   \n",
              "2       Clark St & Wellington Ave          156.0  41.932588 -87.636427   \n",
              "3         Clark St & Armitage Ave           94.0  41.890762 -87.631697   \n",
              "4          Clark St & Schiller St          301.0  41.911722 -87.626804   \n",
              "...                           ...            ...        ...        ...   \n",
              "729590                        NaN            NaN  41.872412 -87.633715   \n",
              "729591   Kingsbury St & Kinzie St   KA1503000043  41.896750 -87.630890   \n",
              "729592         State St & 19th St         SL-013  41.845687 -87.622481   \n",
              "729593                        NaN            NaN  41.896485 -87.630608   \n",
              "729594                        NaN            NaN  41.896596 -87.630868   \n",
              "\n",
              "          end_lat    end_lng member_casual  \n",
              "0       41.906724 -87.634830        member  \n",
              "1       41.984045 -87.660274        member  \n",
              "2       41.936497 -87.647539        casual  \n",
              "3       41.918306 -87.636282        casual  \n",
              "4       41.907993 -87.631501        member  \n",
              "...           ...        ...           ...  \n",
              "729590  41.880000 -87.620000        casual  \n",
              "729591  41.889177 -87.638506        member  \n",
              "729592  41.856594 -87.627542        member  \n",
              "729593  41.940000 -87.710000        member  \n",
              "729594  41.940000 -87.710000        member  \n",
              "\n",
              "[4460151 rows x 13 columns]"
            ],
            "text/html": [
              "\n",
              "  <div id=\"df-1dba5e3a-5d0d-4bf5-91b0-ec370cf49657\">\n",
              "    <div class=\"colab-df-container\">\n",
              "      <div>\n",
              "<style scoped>\n",
              "    .dataframe tbody tr th:only-of-type {\n",
              "        vertical-align: middle;\n",
              "    }\n",
              "\n",
              "    .dataframe tbody tr th {\n",
              "        vertical-align: top;\n",
              "    }\n",
              "\n",
              "    .dataframe thead th {\n",
              "        text-align: right;\n",
              "    }\n",
              "</style>\n",
              "<table border=\"1\" class=\"dataframe\">\n",
              "  <thead>\n",
              "    <tr style=\"text-align: right;\">\n",
              "      <th></th>\n",
              "      <th>ride_id</th>\n",
              "      <th>rideable_type</th>\n",
              "      <th>started_at</th>\n",
              "      <th>ended_at</th>\n",
              "      <th>start_station_name</th>\n",
              "      <th>start_station_id</th>\n",
              "      <th>end_station_name</th>\n",
              "      <th>end_station_id</th>\n",
              "      <th>start_lat</th>\n",
              "      <th>start_lng</th>\n",
              "      <th>end_lat</th>\n",
              "      <th>end_lng</th>\n",
              "      <th>member_casual</th>\n",
              "    </tr>\n",
              "  </thead>\n",
              "  <tbody>\n",
              "    <tr>\n",
              "      <th>0</th>\n",
              "      <td>762198876D69004D</td>\n",
              "      <td>docked_bike</td>\n",
              "      <td>2020-07-09 15:22:02</td>\n",
              "      <td>2020-07-09 15:25:52</td>\n",
              "      <td>Ritchie Ct &amp; Banks St</td>\n",
              "      <td>180.0</td>\n",
              "      <td>Wells St &amp; Evergreen Ave</td>\n",
              "      <td>291.0</td>\n",
              "      <td>41.906866</td>\n",
              "      <td>-87.626217</td>\n",
              "      <td>41.906724</td>\n",
              "      <td>-87.634830</td>\n",
              "      <td>member</td>\n",
              "    </tr>\n",
              "    <tr>\n",
              "      <th>1</th>\n",
              "      <td>BEC9C9FBA0D4CF1B</td>\n",
              "      <td>docked_bike</td>\n",
              "      <td>2020-07-24 23:56:30</td>\n",
              "      <td>2020-07-25 00:20:17</td>\n",
              "      <td>Halsted St &amp; Roscoe St</td>\n",
              "      <td>299.0</td>\n",
              "      <td>Broadway &amp; Ridge Ave</td>\n",
              "      <td>461.0</td>\n",
              "      <td>41.943670</td>\n",
              "      <td>-87.648950</td>\n",
              "      <td>41.984045</td>\n",
              "      <td>-87.660274</td>\n",
              "      <td>member</td>\n",
              "    </tr>\n",
              "    <tr>\n",
              "      <th>2</th>\n",
              "      <td>D2FD8EA432C77EC1</td>\n",
              "      <td>docked_bike</td>\n",
              "      <td>2020-07-08 19:49:07</td>\n",
              "      <td>2020-07-08 19:56:22</td>\n",
              "      <td>Lake Shore Dr &amp; Diversey Pkwy</td>\n",
              "      <td>329.0</td>\n",
              "      <td>Clark St &amp; Wellington Ave</td>\n",
              "      <td>156.0</td>\n",
              "      <td>41.932588</td>\n",
              "      <td>-87.636427</td>\n",
              "      <td>41.936497</td>\n",
              "      <td>-87.647539</td>\n",
              "      <td>casual</td>\n",
              "    </tr>\n",
              "    <tr>\n",
              "      <th>3</th>\n",
              "      <td>54AE594E20B35881</td>\n",
              "      <td>docked_bike</td>\n",
              "      <td>2020-07-17 19:06:42</td>\n",
              "      <td>2020-07-17 19:27:38</td>\n",
              "      <td>LaSalle St &amp; Illinois St</td>\n",
              "      <td>181.0</td>\n",
              "      <td>Clark St &amp; Armitage Ave</td>\n",
              "      <td>94.0</td>\n",
              "      <td>41.890762</td>\n",
              "      <td>-87.631697</td>\n",
              "      <td>41.918306</td>\n",
              "      <td>-87.636282</td>\n",
              "      <td>casual</td>\n",
              "    </tr>\n",
              "    <tr>\n",
              "      <th>4</th>\n",
              "      <td>54025FDC7440B56F</td>\n",
              "      <td>docked_bike</td>\n",
              "      <td>2020-07-04 10:39:57</td>\n",
              "      <td>2020-07-04 10:45:05</td>\n",
              "      <td>Lake Shore Dr &amp; North Blvd</td>\n",
              "      <td>268.0</td>\n",
              "      <td>Clark St &amp; Schiller St</td>\n",
              "      <td>301.0</td>\n",
              "      <td>41.911722</td>\n",
              "      <td>-87.626804</td>\n",
              "      <td>41.907993</td>\n",
              "      <td>-87.631501</td>\n",
              "      <td>member</td>\n",
              "    </tr>\n",
              "    <tr>\n",
              "      <th>...</th>\n",
              "      <td>...</td>\n",
              "      <td>...</td>\n",
              "      <td>...</td>\n",
              "      <td>...</td>\n",
              "      <td>...</td>\n",
              "      <td>...</td>\n",
              "      <td>...</td>\n",
              "      <td>...</td>\n",
              "      <td>...</td>\n",
              "      <td>...</td>\n",
              "      <td>...</td>\n",
              "      <td>...</td>\n",
              "      <td>...</td>\n",
              "    </tr>\n",
              "    <tr>\n",
              "      <th>729590</th>\n",
              "      <td>CB282292CCFCE74F</td>\n",
              "      <td>electric_bike</td>\n",
              "      <td>2021-06-14 00:17:31</td>\n",
              "      <td>2021-06-14 00:56:46</td>\n",
              "      <td>Wells St &amp; Polk St</td>\n",
              "      <td>SL-011</td>\n",
              "      <td>NaN</td>\n",
              "      <td>NaN</td>\n",
              "      <td>41.872412</td>\n",
              "      <td>-87.633715</td>\n",
              "      <td>41.880000</td>\n",
              "      <td>-87.620000</td>\n",
              "      <td>casual</td>\n",
              "    </tr>\n",
              "    <tr>\n",
              "      <th>729591</th>\n",
              "      <td>47BD346FAFB9BE6D</td>\n",
              "      <td>classic_bike</td>\n",
              "      <td>2021-06-30 17:35:10</td>\n",
              "      <td>2021-06-30 17:43:20</td>\n",
              "      <td>Clark St &amp; Chicago Ave</td>\n",
              "      <td>13303</td>\n",
              "      <td>Kingsbury St &amp; Kinzie St</td>\n",
              "      <td>KA1503000043</td>\n",
              "      <td>41.896750</td>\n",
              "      <td>-87.630890</td>\n",
              "      <td>41.889177</td>\n",
              "      <td>-87.638506</td>\n",
              "      <td>member</td>\n",
              "    </tr>\n",
              "    <tr>\n",
              "      <th>729592</th>\n",
              "      <td>52467C23D17C6AFE</td>\n",
              "      <td>classic_bike</td>\n",
              "      <td>2021-06-13 19:24:30</td>\n",
              "      <td>2021-06-13 19:34:11</td>\n",
              "      <td>Indiana Ave &amp; 26th St</td>\n",
              "      <td>TA1307000005</td>\n",
              "      <td>State St &amp; 19th St</td>\n",
              "      <td>SL-013</td>\n",
              "      <td>41.845687</td>\n",
              "      <td>-87.622481</td>\n",
              "      <td>41.856594</td>\n",
              "      <td>-87.627542</td>\n",
              "      <td>member</td>\n",
              "    </tr>\n",
              "    <tr>\n",
              "      <th>729593</th>\n",
              "      <td>7DF6D74420D7D9E6</td>\n",
              "      <td>electric_bike</td>\n",
              "      <td>2021-06-08 15:44:28</td>\n",
              "      <td>2021-06-08 16:15:01</td>\n",
              "      <td>Clark St &amp; Chicago Ave</td>\n",
              "      <td>13303</td>\n",
              "      <td>NaN</td>\n",
              "      <td>NaN</td>\n",
              "      <td>41.896485</td>\n",
              "      <td>-87.630608</td>\n",
              "      <td>41.940000</td>\n",
              "      <td>-87.710000</td>\n",
              "      <td>member</td>\n",
              "    </tr>\n",
              "    <tr>\n",
              "      <th>729594</th>\n",
              "      <td>0C01F8BA99E512E5</td>\n",
              "      <td>electric_bike</td>\n",
              "      <td>2021-06-03 16:18:38</td>\n",
              "      <td>2021-06-03 16:47:49</td>\n",
              "      <td>Clark St &amp; Chicago Ave</td>\n",
              "      <td>13303</td>\n",
              "      <td>NaN</td>\n",
              "      <td>NaN</td>\n",
              "      <td>41.896596</td>\n",
              "      <td>-87.630868</td>\n",
              "      <td>41.940000</td>\n",
              "      <td>-87.710000</td>\n",
              "      <td>member</td>\n",
              "    </tr>\n",
              "  </tbody>\n",
              "</table>\n",
              "<p>4460151 rows × 13 columns</p>\n",
              "</div>\n",
              "      <button class=\"colab-df-convert\" onclick=\"convertToInteractive('df-1dba5e3a-5d0d-4bf5-91b0-ec370cf49657')\"\n",
              "              title=\"Convert this dataframe to an interactive table.\"\n",
              "              style=\"display:none;\">\n",
              "        \n",
              "  <svg xmlns=\"http://www.w3.org/2000/svg\" height=\"24px\"viewBox=\"0 0 24 24\"\n",
              "       width=\"24px\">\n",
              "    <path d=\"M0 0h24v24H0V0z\" fill=\"none\"/>\n",
              "    <path d=\"M18.56 5.44l.94 2.06.94-2.06 2.06-.94-2.06-.94-.94-2.06-.94 2.06-2.06.94zm-11 1L8.5 8.5l.94-2.06 2.06-.94-2.06-.94L8.5 2.5l-.94 2.06-2.06.94zm10 10l.94 2.06.94-2.06 2.06-.94-2.06-.94-.94-2.06-.94 2.06-2.06.94z\"/><path d=\"M17.41 7.96l-1.37-1.37c-.4-.4-.92-.59-1.43-.59-.52 0-1.04.2-1.43.59L10.3 9.45l-7.72 7.72c-.78.78-.78 2.05 0 2.83L4 21.41c.39.39.9.59 1.41.59.51 0 1.02-.2 1.41-.59l7.78-7.78 2.81-2.81c.8-.78.8-2.07 0-2.86zM5.41 20L4 18.59l7.72-7.72 1.47 1.35L5.41 20z\"/>\n",
              "  </svg>\n",
              "      </button>\n",
              "      \n",
              "  <style>\n",
              "    .colab-df-container {\n",
              "      display:flex;\n",
              "      flex-wrap:wrap;\n",
              "      gap: 12px;\n",
              "    }\n",
              "\n",
              "    .colab-df-convert {\n",
              "      background-color: #E8F0FE;\n",
              "      border: none;\n",
              "      border-radius: 50%;\n",
              "      cursor: pointer;\n",
              "      display: none;\n",
              "      fill: #1967D2;\n",
              "      height: 32px;\n",
              "      padding: 0 0 0 0;\n",
              "      width: 32px;\n",
              "    }\n",
              "\n",
              "    .colab-df-convert:hover {\n",
              "      background-color: #E2EBFA;\n",
              "      box-shadow: 0px 1px 2px rgba(60, 64, 67, 0.3), 0px 1px 3px 1px rgba(60, 64, 67, 0.15);\n",
              "      fill: #174EA6;\n",
              "    }\n",
              "\n",
              "    [theme=dark] .colab-df-convert {\n",
              "      background-color: #3B4455;\n",
              "      fill: #D2E3FC;\n",
              "    }\n",
              "\n",
              "    [theme=dark] .colab-df-convert:hover {\n",
              "      background-color: #434B5C;\n",
              "      box-shadow: 0px 1px 3px 1px rgba(0, 0, 0, 0.15);\n",
              "      filter: drop-shadow(0px 1px 2px rgba(0, 0, 0, 0.3));\n",
              "      fill: #FFFFFF;\n",
              "    }\n",
              "  </style>\n",
              "\n",
              "      <script>\n",
              "        const buttonEl =\n",
              "          document.querySelector('#df-1dba5e3a-5d0d-4bf5-91b0-ec370cf49657 button.colab-df-convert');\n",
              "        buttonEl.style.display =\n",
              "          google.colab.kernel.accessAllowed ? 'block' : 'none';\n",
              "\n",
              "        async function convertToInteractive(key) {\n",
              "          const element = document.querySelector('#df-1dba5e3a-5d0d-4bf5-91b0-ec370cf49657');\n",
              "          const dataTable =\n",
              "            await google.colab.kernel.invokeFunction('convertToInteractive',\n",
              "                                                     [key], {});\n",
              "          if (!dataTable) return;\n",
              "\n",
              "          const docLinkHtml = 'Like what you see? Visit the ' +\n",
              "            '<a target=\"_blank\" href=https://colab.research.google.com/notebooks/data_table.ipynb>data table notebook</a>'\n",
              "            + ' to learn more about interactive tables.';\n",
              "          element.innerHTML = '';\n",
              "          dataTable['output_type'] = 'display_data';\n",
              "          await google.colab.output.renderOutput(dataTable, element);\n",
              "          const docLink = document.createElement('div');\n",
              "          docLink.innerHTML = docLinkHtml;\n",
              "          element.appendChild(docLink);\n",
              "        }\n",
              "      </script>\n",
              "    </div>\n",
              "  </div>\n",
              "  "
            ]
          },
          "metadata": {},
          "execution_count": 5
        }
      ]
    },
    {
      "cell_type": "code",
      "source": [
        "# To get information about the dataframe.\n",
        "case_file.info()"
      ],
      "metadata": {
        "colab": {
          "base_uri": "https://localhost:8080/"
        },
        "id": "9aFYYnniiDSf",
        "outputId": "45bad80e-bac9-4906-9dee-418e3fc4d608"
      },
      "execution_count": 6,
      "outputs": [
        {
          "output_type": "stream",
          "name": "stdout",
          "text": [
            "<class 'pandas.core.frame.DataFrame'>\n",
            "Int64Index: 4460151 entries, 0 to 729594\n",
            "Data columns (total 13 columns):\n",
            " #   Column              Dtype  \n",
            "---  ------              -----  \n",
            " 0   ride_id             object \n",
            " 1   rideable_type       object \n",
            " 2   started_at          object \n",
            " 3   ended_at            object \n",
            " 4   start_station_name  object \n",
            " 5   start_station_id    object \n",
            " 6   end_station_name    object \n",
            " 7   end_station_id      object \n",
            " 8   start_lat           float64\n",
            " 9   start_lng           float64\n",
            " 10  end_lat             float64\n",
            " 11  end_lng             float64\n",
            " 12  member_casual       object \n",
            "dtypes: float64(4), object(9)\n",
            "memory usage: 476.4+ MB\n"
          ]
        }
      ]
    },
    {
      "cell_type": "code",
      "source": [
        "#To convert object data type of start_time and end_time columns into datetime data type\n",
        "case_file['start_time'] = pd.to_datetime(case_file['started_at'])\n",
        "case_file['end_time'] = pd.to_datetime(case_file['ended_at'])"
      ],
      "metadata": {
        "id": "3NowQcOLiVlY"
      },
      "execution_count": 7,
      "outputs": []
    },
    {
      "cell_type": "code",
      "source": [
        "#Adding new column - ride_length (ended_at - started_at) to calculate the time travelled\n",
        "case_file['ride_length'] = case_file['end_time'] - case_file['start_time']\n",
        "case_file['ride_length']"
      ],
      "metadata": {
        "colab": {
          "base_uri": "https://localhost:8080/"
        },
        "id": "qRC8CNdBirn2",
        "outputId": "8691e5a9-0fc5-4e35-c848-36649b235ff2"
      },
      "execution_count": 8,
      "outputs": [
        {
          "output_type": "execute_result",
          "data": {
            "text/plain": [
              "0        0 days 00:03:50\n",
              "1        0 days 00:23:47\n",
              "2        0 days 00:07:15\n",
              "3        0 days 00:20:56\n",
              "4        0 days 00:05:08\n",
              "               ...      \n",
              "729590   0 days 00:39:15\n",
              "729591   0 days 00:08:10\n",
              "729592   0 days 00:09:41\n",
              "729593   0 days 00:30:33\n",
              "729594   0 days 00:29:11\n",
              "Name: ride_length, Length: 4460151, dtype: timedelta64[ns]"
            ]
          },
          "metadata": {},
          "execution_count": 8
        }
      ]
    },
    {
      "cell_type": "code",
      "source": [
        "# To get the updated information about the changes made in the data type of dataframe.\n",
        "case_file.info()"
      ],
      "metadata": {
        "colab": {
          "base_uri": "https://localhost:8080/"
        },
        "id": "lSmTqVSXi7Uw",
        "outputId": "c0993229-157d-476c-9703-0299dffe4631"
      },
      "execution_count": 9,
      "outputs": [
        {
          "output_type": "stream",
          "name": "stdout",
          "text": [
            "<class 'pandas.core.frame.DataFrame'>\n",
            "Int64Index: 4460151 entries, 0 to 729594\n",
            "Data columns (total 16 columns):\n",
            " #   Column              Dtype          \n",
            "---  ------              -----          \n",
            " 0   ride_id             object         \n",
            " 1   rideable_type       object         \n",
            " 2   started_at          object         \n",
            " 3   ended_at            object         \n",
            " 4   start_station_name  object         \n",
            " 5   start_station_id    object         \n",
            " 6   end_station_name    object         \n",
            " 7   end_station_id      object         \n",
            " 8   start_lat           float64        \n",
            " 9   start_lng           float64        \n",
            " 10  end_lat             float64        \n",
            " 11  end_lng             float64        \n",
            " 12  member_casual       object         \n",
            " 13  start_time          datetime64[ns] \n",
            " 14  end_time            datetime64[ns] \n",
            " 15  ride_length         timedelta64[ns]\n",
            "dtypes: datetime64[ns](2), float64(4), object(9), timedelta64[ns](1)\n",
            "memory usage: 578.5+ MB\n"
          ]
        }
      ]
    },
    {
      "cell_type": "code",
      "source": [
        "# Splitting and extracting the date from \"started_at\" column\n",
        "case_file['start_date1'] = [i.split(\" \")[0] for i in case_file['started_at']]\n",
        "case_file['start_date1']"
      ],
      "metadata": {
        "colab": {
          "base_uri": "https://localhost:8080/"
        },
        "id": "6OhUg3WojGvw",
        "outputId": "bc5f0eab-1ef5-4458-8d47-851f0795ebbd"
      },
      "execution_count": 10,
      "outputs": [
        {
          "output_type": "execute_result",
          "data": {
            "text/plain": [
              "0         2020-07-09\n",
              "1         2020-07-24\n",
              "2         2020-07-08\n",
              "3         2020-07-17\n",
              "4         2020-07-04\n",
              "             ...    \n",
              "729590    2021-06-14\n",
              "729591    2021-06-30\n",
              "729592    2021-06-13\n",
              "729593    2021-06-08\n",
              "729594    2021-06-03\n",
              "Name: start_date1, Length: 4460151, dtype: object"
            ]
          },
          "metadata": {},
          "execution_count": 10
        }
      ]
    },
    {
      "cell_type": "code",
      "source": [
        "# Converting start_date1 into datetime data type\n",
        "case_file['start_date1'] = pd.to_datetime(case_file['start_date1'])"
      ],
      "metadata": {
        "id": "Zfrv-8fejjKl"
      },
      "execution_count": 11,
      "outputs": []
    },
    {
      "cell_type": "code",
      "source": [
        "# Finding the weekday of the date\n",
        "case_file['week_day'] = case_file['start_date1'].apply(lambda x: x.weekday())\n",
        "case_file['week_day'].unique()"
      ],
      "metadata": {
        "colab": {
          "base_uri": "https://localhost:8080/"
        },
        "id": "Wfd5HaHaj1OE",
        "outputId": "b01de98b-d3c1-4206-f66d-72c6098250f3"
      },
      "execution_count": 12,
      "outputs": [
        {
          "output_type": "execute_result",
          "data": {
            "text/plain": [
              "array([3, 4, 2, 5, 1, 0, 6])"
            ]
          },
          "metadata": {},
          "execution_count": 12
        }
      ]
    },
    {
      "cell_type": "code",
      "source": [
        "# Converting weekday values into weekday\n",
        "dict1 = {0: \"Sunday\", 1: \"Monday\", 2: \"Tuesday\", 3: \"Wednesday\", 4: \"Thursday\", 5: \"Friday\", 6: \"Saturday\"}\n",
        "case_file['week_day'] = case_file['week_day'].apply(lambda y: dict1[y])\n",
        "case_file['week_day']"
      ],
      "metadata": {
        "colab": {
          "base_uri": "https://localhost:8080/"
        },
        "id": "1cgfx1nnkIXg",
        "outputId": "d8929780-a2e3-434a-a52e-5414f7eff9bd"
      },
      "execution_count": 13,
      "outputs": [
        {
          "output_type": "execute_result",
          "data": {
            "text/plain": [
              "0         Wednesday\n",
              "1          Thursday\n",
              "2           Tuesday\n",
              "3          Thursday\n",
              "4            Friday\n",
              "            ...    \n",
              "729590       Sunday\n",
              "729591      Tuesday\n",
              "729592     Saturday\n",
              "729593       Monday\n",
              "729594    Wednesday\n",
              "Name: week_day, Length: 4460151, dtype: object"
            ]
          },
          "metadata": {},
          "execution_count": 13
        }
      ]
    },
    {
      "cell_type": "code",
      "source": [
        "# To sort the dataframe by start date in ascending order\n",
        "case_file.sort_values(by=['started_at'], inplace = True, ascending = True)"
      ],
      "metadata": {
        "id": "uFA2HCiikyXc"
      },
      "execution_count": 14,
      "outputs": []
    },
    {
      "cell_type": "code",
      "source": [
        "# Drop all rows with any NaN values\n",
        "case_file_cleaned = case_file.dropna()"
      ],
      "metadata": {
        "id": "gUn2QB-MlDxg"
      },
      "execution_count": 15,
      "outputs": []
    },
    {
      "cell_type": "code",
      "source": [
        "# To save the cleaned file for further transformation of data\n",
        "case_file_cleaned.to_csv('cleaned.csv')"
      ],
      "metadata": {
        "id": "q8aJlXOllOrx"
      },
      "execution_count": 16,
      "outputs": []
    },
    {
      "cell_type": "code",
      "source": [
        "# To import the cleaned data file\n",
        "cleaned_file = pd.read_csv(\"cleaned.csv\")"
      ],
      "metadata": {
        "colab": {
          "base_uri": "https://localhost:8080/"
        },
        "id": "LPCtToeHlUQW",
        "outputId": "e83eff89-af2a-4d36-94b9-4c4cddca0ce7"
      },
      "execution_count": 17,
      "outputs": [
        {
          "output_type": "stream",
          "name": "stderr",
          "text": [
            "<ipython-input-17-84e523ee80a0>:2: DtypeWarning: Columns (6,8) have mixed types. Specify dtype option on import or set low_memory=False.\n",
            "  cleaned_file = pd.read_csv(\"cleaned.csv\")\n"
          ]
        }
      ]
    },
    {
      "cell_type": "code",
      "source": [
        "# Print the cleaned dataframe\n",
        "cleaned_file"
      ],
      "metadata": {
        "colab": {
          "base_uri": "https://localhost:8080/",
          "height": 852
        },
        "id": "dazCrr2blYdM",
        "outputId": "cae83385-afc3-4d12-b9e4-fb7a739aed23"
      },
      "execution_count": 18,
      "outputs": [
        {
          "output_type": "execute_result",
          "data": {
            "text/plain": [
              "         Unnamed: 0           ride_id rideable_type           started_at  \\\n",
              "0            275150  C66CC4DD911DDFBD   docked_bike  2020-07-01 00:00:14   \n",
              "1            259045  BD6363747C00FAD3   docked_bike  2020-07-01 00:00:15   \n",
              "2            236929  1856297CBD809E60   docked_bike  2020-07-01 00:00:49   \n",
              "3            217019  06B27D89815F5031   docked_bike  2020-07-01 00:00:50   \n",
              "4            195188  7F17B8FF6F418A7F   docked_bike  2020-07-01 00:01:11   \n",
              "...             ...               ...           ...                  ...   \n",
              "4025498      675978  E25F3A2D6AF8F001  classic_bike  2021-06-30 23:59:15   \n",
              "4025499      582358  F67C4ACB3CCEC518  classic_bike  2021-06-30 23:59:16   \n",
              "4025500       16931  B6A748160720820F  classic_bike  2021-06-30 23:59:26   \n",
              "4025501      626434  5F69DFB0122DC3D8  classic_bike  2021-06-30 23:59:35   \n",
              "4025502      156646  428577054CA0238A  classic_bike  2021-06-30 23:59:59   \n",
              "\n",
              "                    ended_at         start_station_name start_station_id  \\\n",
              "0        2020-07-01 01:28:12        Buckingham Fountain              2.0   \n",
              "1        2020-07-01 02:44:58      Wells St & Concord Ln            289.0   \n",
              "2        2020-07-01 00:45:04     Wabash Ave & Wacker Pl            194.0   \n",
              "3        2020-07-01 02:52:16      Wells St & Concord Ln            289.0   \n",
              "4        2020-07-01 00:08:03         State St & 33rd St            148.0   \n",
              "...                      ...                        ...              ...   \n",
              "4025498  2021-07-01 00:06:09      Calumet Ave & 18th St            13102   \n",
              "4025499  2021-07-01 00:04:21  Ashland Ave & Chicago Ave            13247   \n",
              "4025500  2021-07-01 00:06:11      Calumet Ave & 18th St            13102   \n",
              "4025501  2021-07-01 00:27:54     Michigan Ave & Lake St     TA1305000011   \n",
              "4025502  2021-07-01 00:36:07     Wabash Ave & Cermak Rd     TA1305000001   \n",
              "\n",
              "                             end_station_name end_station_id  start_lat  \\\n",
              "0                         Buckingham Fountain            2.0  41.876511   \n",
              "1                          Clark St & Lake St           38.0  41.912133   \n",
              "2                      Wabash Ave & Wacker Pl          194.0  41.886875   \n",
              "3                          Clark St & Lake St           38.0  41.912133   \n",
              "4                         MLK Jr Dr & 29th St          237.0  41.834734   \n",
              "...                                       ...            ...        ...   \n",
              "4025498             Wabash Ave & Roosevelt Rd   TA1305000002  41.857611   \n",
              "4025499  Damen Ave & Thomas St (Augusta Blvd)   TA1307000070  41.895966   \n",
              "4025500             Wabash Ave & Roosevelt Rd   TA1305000002  41.857611   \n",
              "4025501                Wabash Ave & Wacker Pl   TA1307000131  41.886024   \n",
              "4025502             Sedgwick St & Webster Ave          13191  41.852619   \n",
              "\n",
              "         start_lng    end_lat    end_lng member_casual           start_time  \\\n",
              "0       -87.620548  41.876511 -87.620548        casual  2020-07-01 00:00:14   \n",
              "1       -87.634656  41.886021 -87.630876        casual  2020-07-01 00:00:15   \n",
              "2       -87.626030  41.886875 -87.626030        casual  2020-07-01 00:00:49   \n",
              "3       -87.634656  41.886021 -87.630876        casual  2020-07-01 00:00:50   \n",
              "4       -87.625813  41.842052 -87.617000        member  2020-07-01 00:01:11   \n",
              "...            ...        ...        ...           ...                  ...   \n",
              "4025498 -87.619407  41.867227 -87.625961        casual  2021-06-30 23:59:15   \n",
              "4025499 -87.667747  41.901315 -87.677409        casual  2021-06-30 23:59:16   \n",
              "4025500 -87.619407  41.867227 -87.625961        member  2021-06-30 23:59:26   \n",
              "4025501 -87.624117  41.886875 -87.626030        casual  2021-06-30 23:59:35   \n",
              "4025502 -87.626488  41.922167 -87.638888        member  2021-06-30 23:59:59   \n",
              "\n",
              "                    end_time      ride_length start_date1 week_day  \n",
              "0        2020-07-01 01:28:12  0 days 01:27:58  2020-07-01  Tuesday  \n",
              "1        2020-07-01 02:44:58  0 days 02:44:43  2020-07-01  Tuesday  \n",
              "2        2020-07-01 00:45:04  0 days 00:44:15  2020-07-01  Tuesday  \n",
              "3        2020-07-01 02:52:16  0 days 02:51:26  2020-07-01  Tuesday  \n",
              "4        2020-07-01 00:08:03  0 days 00:06:52  2020-07-01  Tuesday  \n",
              "...                      ...              ...         ...      ...  \n",
              "4025498  2021-07-01 00:06:09  0 days 00:06:54  2021-06-30  Tuesday  \n",
              "4025499  2021-07-01 00:04:21  0 days 00:05:05  2021-06-30  Tuesday  \n",
              "4025500  2021-07-01 00:06:11  0 days 00:06:45  2021-06-30  Tuesday  \n",
              "4025501  2021-07-01 00:27:54  0 days 00:28:19  2021-06-30  Tuesday  \n",
              "4025502  2021-07-01 00:36:07  0 days 00:36:08  2021-06-30  Tuesday  \n",
              "\n",
              "[4025503 rows x 19 columns]"
            ],
            "text/html": [
              "\n",
              "  <div id=\"df-56813189-1fea-4c85-8c2d-35f13ea239a3\">\n",
              "    <div class=\"colab-df-container\">\n",
              "      <div>\n",
              "<style scoped>\n",
              "    .dataframe tbody tr th:only-of-type {\n",
              "        vertical-align: middle;\n",
              "    }\n",
              "\n",
              "    .dataframe tbody tr th {\n",
              "        vertical-align: top;\n",
              "    }\n",
              "\n",
              "    .dataframe thead th {\n",
              "        text-align: right;\n",
              "    }\n",
              "</style>\n",
              "<table border=\"1\" class=\"dataframe\">\n",
              "  <thead>\n",
              "    <tr style=\"text-align: right;\">\n",
              "      <th></th>\n",
              "      <th>Unnamed: 0</th>\n",
              "      <th>ride_id</th>\n",
              "      <th>rideable_type</th>\n",
              "      <th>started_at</th>\n",
              "      <th>ended_at</th>\n",
              "      <th>start_station_name</th>\n",
              "      <th>start_station_id</th>\n",
              "      <th>end_station_name</th>\n",
              "      <th>end_station_id</th>\n",
              "      <th>start_lat</th>\n",
              "      <th>start_lng</th>\n",
              "      <th>end_lat</th>\n",
              "      <th>end_lng</th>\n",
              "      <th>member_casual</th>\n",
              "      <th>start_time</th>\n",
              "      <th>end_time</th>\n",
              "      <th>ride_length</th>\n",
              "      <th>start_date1</th>\n",
              "      <th>week_day</th>\n",
              "    </tr>\n",
              "  </thead>\n",
              "  <tbody>\n",
              "    <tr>\n",
              "      <th>0</th>\n",
              "      <td>275150</td>\n",
              "      <td>C66CC4DD911DDFBD</td>\n",
              "      <td>docked_bike</td>\n",
              "      <td>2020-07-01 00:00:14</td>\n",
              "      <td>2020-07-01 01:28:12</td>\n",
              "      <td>Buckingham Fountain</td>\n",
              "      <td>2.0</td>\n",
              "      <td>Buckingham Fountain</td>\n",
              "      <td>2.0</td>\n",
              "      <td>41.876511</td>\n",
              "      <td>-87.620548</td>\n",
              "      <td>41.876511</td>\n",
              "      <td>-87.620548</td>\n",
              "      <td>casual</td>\n",
              "      <td>2020-07-01 00:00:14</td>\n",
              "      <td>2020-07-01 01:28:12</td>\n",
              "      <td>0 days 01:27:58</td>\n",
              "      <td>2020-07-01</td>\n",
              "      <td>Tuesday</td>\n",
              "    </tr>\n",
              "    <tr>\n",
              "      <th>1</th>\n",
              "      <td>259045</td>\n",
              "      <td>BD6363747C00FAD3</td>\n",
              "      <td>docked_bike</td>\n",
              "      <td>2020-07-01 00:00:15</td>\n",
              "      <td>2020-07-01 02:44:58</td>\n",
              "      <td>Wells St &amp; Concord Ln</td>\n",
              "      <td>289.0</td>\n",
              "      <td>Clark St &amp; Lake St</td>\n",
              "      <td>38.0</td>\n",
              "      <td>41.912133</td>\n",
              "      <td>-87.634656</td>\n",
              "      <td>41.886021</td>\n",
              "      <td>-87.630876</td>\n",
              "      <td>casual</td>\n",
              "      <td>2020-07-01 00:00:15</td>\n",
              "      <td>2020-07-01 02:44:58</td>\n",
              "      <td>0 days 02:44:43</td>\n",
              "      <td>2020-07-01</td>\n",
              "      <td>Tuesday</td>\n",
              "    </tr>\n",
              "    <tr>\n",
              "      <th>2</th>\n",
              "      <td>236929</td>\n",
              "      <td>1856297CBD809E60</td>\n",
              "      <td>docked_bike</td>\n",
              "      <td>2020-07-01 00:00:49</td>\n",
              "      <td>2020-07-01 00:45:04</td>\n",
              "      <td>Wabash Ave &amp; Wacker Pl</td>\n",
              "      <td>194.0</td>\n",
              "      <td>Wabash Ave &amp; Wacker Pl</td>\n",
              "      <td>194.0</td>\n",
              "      <td>41.886875</td>\n",
              "      <td>-87.626030</td>\n",
              "      <td>41.886875</td>\n",
              "      <td>-87.626030</td>\n",
              "      <td>casual</td>\n",
              "      <td>2020-07-01 00:00:49</td>\n",
              "      <td>2020-07-01 00:45:04</td>\n",
              "      <td>0 days 00:44:15</td>\n",
              "      <td>2020-07-01</td>\n",
              "      <td>Tuesday</td>\n",
              "    </tr>\n",
              "    <tr>\n",
              "      <th>3</th>\n",
              "      <td>217019</td>\n",
              "      <td>06B27D89815F5031</td>\n",
              "      <td>docked_bike</td>\n",
              "      <td>2020-07-01 00:00:50</td>\n",
              "      <td>2020-07-01 02:52:16</td>\n",
              "      <td>Wells St &amp; Concord Ln</td>\n",
              "      <td>289.0</td>\n",
              "      <td>Clark St &amp; Lake St</td>\n",
              "      <td>38.0</td>\n",
              "      <td>41.912133</td>\n",
              "      <td>-87.634656</td>\n",
              "      <td>41.886021</td>\n",
              "      <td>-87.630876</td>\n",
              "      <td>casual</td>\n",
              "      <td>2020-07-01 00:00:50</td>\n",
              "      <td>2020-07-01 02:52:16</td>\n",
              "      <td>0 days 02:51:26</td>\n",
              "      <td>2020-07-01</td>\n",
              "      <td>Tuesday</td>\n",
              "    </tr>\n",
              "    <tr>\n",
              "      <th>4</th>\n",
              "      <td>195188</td>\n",
              "      <td>7F17B8FF6F418A7F</td>\n",
              "      <td>docked_bike</td>\n",
              "      <td>2020-07-01 00:01:11</td>\n",
              "      <td>2020-07-01 00:08:03</td>\n",
              "      <td>State St &amp; 33rd St</td>\n",
              "      <td>148.0</td>\n",
              "      <td>MLK Jr Dr &amp; 29th St</td>\n",
              "      <td>237.0</td>\n",
              "      <td>41.834734</td>\n",
              "      <td>-87.625813</td>\n",
              "      <td>41.842052</td>\n",
              "      <td>-87.617000</td>\n",
              "      <td>member</td>\n",
              "      <td>2020-07-01 00:01:11</td>\n",
              "      <td>2020-07-01 00:08:03</td>\n",
              "      <td>0 days 00:06:52</td>\n",
              "      <td>2020-07-01</td>\n",
              "      <td>Tuesday</td>\n",
              "    </tr>\n",
              "    <tr>\n",
              "      <th>...</th>\n",
              "      <td>...</td>\n",
              "      <td>...</td>\n",
              "      <td>...</td>\n",
              "      <td>...</td>\n",
              "      <td>...</td>\n",
              "      <td>...</td>\n",
              "      <td>...</td>\n",
              "      <td>...</td>\n",
              "      <td>...</td>\n",
              "      <td>...</td>\n",
              "      <td>...</td>\n",
              "      <td>...</td>\n",
              "      <td>...</td>\n",
              "      <td>...</td>\n",
              "      <td>...</td>\n",
              "      <td>...</td>\n",
              "      <td>...</td>\n",
              "      <td>...</td>\n",
              "      <td>...</td>\n",
              "    </tr>\n",
              "    <tr>\n",
              "      <th>4025498</th>\n",
              "      <td>675978</td>\n",
              "      <td>E25F3A2D6AF8F001</td>\n",
              "      <td>classic_bike</td>\n",
              "      <td>2021-06-30 23:59:15</td>\n",
              "      <td>2021-07-01 00:06:09</td>\n",
              "      <td>Calumet Ave &amp; 18th St</td>\n",
              "      <td>13102</td>\n",
              "      <td>Wabash Ave &amp; Roosevelt Rd</td>\n",
              "      <td>TA1305000002</td>\n",
              "      <td>41.857611</td>\n",
              "      <td>-87.619407</td>\n",
              "      <td>41.867227</td>\n",
              "      <td>-87.625961</td>\n",
              "      <td>casual</td>\n",
              "      <td>2021-06-30 23:59:15</td>\n",
              "      <td>2021-07-01 00:06:09</td>\n",
              "      <td>0 days 00:06:54</td>\n",
              "      <td>2021-06-30</td>\n",
              "      <td>Tuesday</td>\n",
              "    </tr>\n",
              "    <tr>\n",
              "      <th>4025499</th>\n",
              "      <td>582358</td>\n",
              "      <td>F67C4ACB3CCEC518</td>\n",
              "      <td>classic_bike</td>\n",
              "      <td>2021-06-30 23:59:16</td>\n",
              "      <td>2021-07-01 00:04:21</td>\n",
              "      <td>Ashland Ave &amp; Chicago Ave</td>\n",
              "      <td>13247</td>\n",
              "      <td>Damen Ave &amp; Thomas St (Augusta Blvd)</td>\n",
              "      <td>TA1307000070</td>\n",
              "      <td>41.895966</td>\n",
              "      <td>-87.667747</td>\n",
              "      <td>41.901315</td>\n",
              "      <td>-87.677409</td>\n",
              "      <td>casual</td>\n",
              "      <td>2021-06-30 23:59:16</td>\n",
              "      <td>2021-07-01 00:04:21</td>\n",
              "      <td>0 days 00:05:05</td>\n",
              "      <td>2021-06-30</td>\n",
              "      <td>Tuesday</td>\n",
              "    </tr>\n",
              "    <tr>\n",
              "      <th>4025500</th>\n",
              "      <td>16931</td>\n",
              "      <td>B6A748160720820F</td>\n",
              "      <td>classic_bike</td>\n",
              "      <td>2021-06-30 23:59:26</td>\n",
              "      <td>2021-07-01 00:06:11</td>\n",
              "      <td>Calumet Ave &amp; 18th St</td>\n",
              "      <td>13102</td>\n",
              "      <td>Wabash Ave &amp; Roosevelt Rd</td>\n",
              "      <td>TA1305000002</td>\n",
              "      <td>41.857611</td>\n",
              "      <td>-87.619407</td>\n",
              "      <td>41.867227</td>\n",
              "      <td>-87.625961</td>\n",
              "      <td>member</td>\n",
              "      <td>2021-06-30 23:59:26</td>\n",
              "      <td>2021-07-01 00:06:11</td>\n",
              "      <td>0 days 00:06:45</td>\n",
              "      <td>2021-06-30</td>\n",
              "      <td>Tuesday</td>\n",
              "    </tr>\n",
              "    <tr>\n",
              "      <th>4025501</th>\n",
              "      <td>626434</td>\n",
              "      <td>5F69DFB0122DC3D8</td>\n",
              "      <td>classic_bike</td>\n",
              "      <td>2021-06-30 23:59:35</td>\n",
              "      <td>2021-07-01 00:27:54</td>\n",
              "      <td>Michigan Ave &amp; Lake St</td>\n",
              "      <td>TA1305000011</td>\n",
              "      <td>Wabash Ave &amp; Wacker Pl</td>\n",
              "      <td>TA1307000131</td>\n",
              "      <td>41.886024</td>\n",
              "      <td>-87.624117</td>\n",
              "      <td>41.886875</td>\n",
              "      <td>-87.626030</td>\n",
              "      <td>casual</td>\n",
              "      <td>2021-06-30 23:59:35</td>\n",
              "      <td>2021-07-01 00:27:54</td>\n",
              "      <td>0 days 00:28:19</td>\n",
              "      <td>2021-06-30</td>\n",
              "      <td>Tuesday</td>\n",
              "    </tr>\n",
              "    <tr>\n",
              "      <th>4025502</th>\n",
              "      <td>156646</td>\n",
              "      <td>428577054CA0238A</td>\n",
              "      <td>classic_bike</td>\n",
              "      <td>2021-06-30 23:59:59</td>\n",
              "      <td>2021-07-01 00:36:07</td>\n",
              "      <td>Wabash Ave &amp; Cermak Rd</td>\n",
              "      <td>TA1305000001</td>\n",
              "      <td>Sedgwick St &amp; Webster Ave</td>\n",
              "      <td>13191</td>\n",
              "      <td>41.852619</td>\n",
              "      <td>-87.626488</td>\n",
              "      <td>41.922167</td>\n",
              "      <td>-87.638888</td>\n",
              "      <td>member</td>\n",
              "      <td>2021-06-30 23:59:59</td>\n",
              "      <td>2021-07-01 00:36:07</td>\n",
              "      <td>0 days 00:36:08</td>\n",
              "      <td>2021-06-30</td>\n",
              "      <td>Tuesday</td>\n",
              "    </tr>\n",
              "  </tbody>\n",
              "</table>\n",
              "<p>4025503 rows × 19 columns</p>\n",
              "</div>\n",
              "      <button class=\"colab-df-convert\" onclick=\"convertToInteractive('df-56813189-1fea-4c85-8c2d-35f13ea239a3')\"\n",
              "              title=\"Convert this dataframe to an interactive table.\"\n",
              "              style=\"display:none;\">\n",
              "        \n",
              "  <svg xmlns=\"http://www.w3.org/2000/svg\" height=\"24px\"viewBox=\"0 0 24 24\"\n",
              "       width=\"24px\">\n",
              "    <path d=\"M0 0h24v24H0V0z\" fill=\"none\"/>\n",
              "    <path d=\"M18.56 5.44l.94 2.06.94-2.06 2.06-.94-2.06-.94-.94-2.06-.94 2.06-2.06.94zm-11 1L8.5 8.5l.94-2.06 2.06-.94-2.06-.94L8.5 2.5l-.94 2.06-2.06.94zm10 10l.94 2.06.94-2.06 2.06-.94-2.06-.94-.94-2.06-.94 2.06-2.06.94z\"/><path d=\"M17.41 7.96l-1.37-1.37c-.4-.4-.92-.59-1.43-.59-.52 0-1.04.2-1.43.59L10.3 9.45l-7.72 7.72c-.78.78-.78 2.05 0 2.83L4 21.41c.39.39.9.59 1.41.59.51 0 1.02-.2 1.41-.59l7.78-7.78 2.81-2.81c.8-.78.8-2.07 0-2.86zM5.41 20L4 18.59l7.72-7.72 1.47 1.35L5.41 20z\"/>\n",
              "  </svg>\n",
              "      </button>\n",
              "      \n",
              "  <style>\n",
              "    .colab-df-container {\n",
              "      display:flex;\n",
              "      flex-wrap:wrap;\n",
              "      gap: 12px;\n",
              "    }\n",
              "\n",
              "    .colab-df-convert {\n",
              "      background-color: #E8F0FE;\n",
              "      border: none;\n",
              "      border-radius: 50%;\n",
              "      cursor: pointer;\n",
              "      display: none;\n",
              "      fill: #1967D2;\n",
              "      height: 32px;\n",
              "      padding: 0 0 0 0;\n",
              "      width: 32px;\n",
              "    }\n",
              "\n",
              "    .colab-df-convert:hover {\n",
              "      background-color: #E2EBFA;\n",
              "      box-shadow: 0px 1px 2px rgba(60, 64, 67, 0.3), 0px 1px 3px 1px rgba(60, 64, 67, 0.15);\n",
              "      fill: #174EA6;\n",
              "    }\n",
              "\n",
              "    [theme=dark] .colab-df-convert {\n",
              "      background-color: #3B4455;\n",
              "      fill: #D2E3FC;\n",
              "    }\n",
              "\n",
              "    [theme=dark] .colab-df-convert:hover {\n",
              "      background-color: #434B5C;\n",
              "      box-shadow: 0px 1px 3px 1px rgba(0, 0, 0, 0.15);\n",
              "      filter: drop-shadow(0px 1px 2px rgba(0, 0, 0, 0.3));\n",
              "      fill: #FFFFFF;\n",
              "    }\n",
              "  </style>\n",
              "\n",
              "      <script>\n",
              "        const buttonEl =\n",
              "          document.querySelector('#df-56813189-1fea-4c85-8c2d-35f13ea239a3 button.colab-df-convert');\n",
              "        buttonEl.style.display =\n",
              "          google.colab.kernel.accessAllowed ? 'block' : 'none';\n",
              "\n",
              "        async function convertToInteractive(key) {\n",
              "          const element = document.querySelector('#df-56813189-1fea-4c85-8c2d-35f13ea239a3');\n",
              "          const dataTable =\n",
              "            await google.colab.kernel.invokeFunction('convertToInteractive',\n",
              "                                                     [key], {});\n",
              "          if (!dataTable) return;\n",
              "\n",
              "          const docLinkHtml = 'Like what you see? Visit the ' +\n",
              "            '<a target=\"_blank\" href=https://colab.research.google.com/notebooks/data_table.ipynb>data table notebook</a>'\n",
              "            + ' to learn more about interactive tables.';\n",
              "          element.innerHTML = '';\n",
              "          dataTable['output_type'] = 'display_data';\n",
              "          await google.colab.output.renderOutput(dataTable, element);\n",
              "          const docLink = document.createElement('div');\n",
              "          docLink.innerHTML = docLinkHtml;\n",
              "          element.appendChild(docLink);\n",
              "        }\n",
              "      </script>\n",
              "    </div>\n",
              "  </div>\n",
              "  "
            ]
          },
          "metadata": {},
          "execution_count": 18
        }
      ]
    },
    {
      "cell_type": "code",
      "source": [
        "# To calculate euclidean distance between start and end point.\n",
        "cleaned_file[\"x\"] = (cleaned_file[\"end_lat\"] - cleaned_file[\"start_lat\"])**2\n",
        "cleaned_file[\"y\"] = (cleaned_file[\"end_lng\"] - cleaned_file[\"start_lng\"])**2\n",
        "cleaned_file[\"distance\"] = (cleaned_file[\"x\"] + cleaned_file[\"y\"])**(1/2)\n",
        "cleaned_file[\"distance\"]"
      ],
      "metadata": {
        "colab": {
          "base_uri": "https://localhost:8080/"
        },
        "id": "Nt7lEayAlcFO",
        "outputId": "6934d108-0fab-4c45-e795-6cfdd24d343a"
      },
      "execution_count": 19,
      "outputs": [
        {
          "output_type": "execute_result",
          "data": {
            "text/plain": [
              "0          2.290298e-07\n",
              "1          2.638434e-02\n",
              "2          0.000000e+00\n",
              "3          2.638434e-02\n",
              "4          1.145522e-02\n",
              "               ...     \n",
              "4025498    1.163711e-02\n",
              "4025499    1.104382e-02\n",
              "4025500    1.163711e-02\n",
              "4025501    2.093745e-03\n",
              "4025502    7.064478e-02\n",
              "Name: distance, Length: 4025503, dtype: float64"
            ]
          },
          "metadata": {},
          "execution_count": 19
        }
      ]
    },
    {
      "cell_type": "code",
      "source": [
        "# To extract year and month from start date column\n",
        "cleaned_file['year'] = pd.DatetimeIndex(cleaned_file[\"start_date1\"]).year\n",
        "cleaned_file['month'] = pd.DatetimeIndex(cleaned_file[\"start_date1\"]).month"
      ],
      "metadata": {
        "id": "vYf8TkyDmY3d"
      },
      "execution_count": 20,
      "outputs": []
    },
    {
      "cell_type": "code",
      "source": [
        "# To convert object datatype to timedelta\n",
        "cleaned_file[\"ride_len\"] = pd.to_timedelta(cleaned_file[\"ride_length\"])"
      ],
      "metadata": {
        "id": "ZQiXJSjImtDQ"
      },
      "execution_count": 21,
      "outputs": []
    },
    {
      "cell_type": "code",
      "source": [
        "# Print the cleaned dataframe\n",
        "cleaned_file"
      ],
      "metadata": {
        "colab": {
          "base_uri": "https://localhost:8080/",
          "height": 852
        },
        "id": "PeFtzJaem6w8",
        "outputId": "f877de20-e600-498f-ff67-b89c4d01c841"
      },
      "execution_count": 22,
      "outputs": [
        {
          "output_type": "execute_result",
          "data": {
            "text/plain": [
              "         Unnamed: 0           ride_id rideable_type           started_at  \\\n",
              "0            275150  C66CC4DD911DDFBD   docked_bike  2020-07-01 00:00:14   \n",
              "1            259045  BD6363747C00FAD3   docked_bike  2020-07-01 00:00:15   \n",
              "2            236929  1856297CBD809E60   docked_bike  2020-07-01 00:00:49   \n",
              "3            217019  06B27D89815F5031   docked_bike  2020-07-01 00:00:50   \n",
              "4            195188  7F17B8FF6F418A7F   docked_bike  2020-07-01 00:01:11   \n",
              "...             ...               ...           ...                  ...   \n",
              "4025498      675978  E25F3A2D6AF8F001  classic_bike  2021-06-30 23:59:15   \n",
              "4025499      582358  F67C4ACB3CCEC518  classic_bike  2021-06-30 23:59:16   \n",
              "4025500       16931  B6A748160720820F  classic_bike  2021-06-30 23:59:26   \n",
              "4025501      626434  5F69DFB0122DC3D8  classic_bike  2021-06-30 23:59:35   \n",
              "4025502      156646  428577054CA0238A  classic_bike  2021-06-30 23:59:59   \n",
              "\n",
              "                    ended_at         start_station_name start_station_id  \\\n",
              "0        2020-07-01 01:28:12        Buckingham Fountain              2.0   \n",
              "1        2020-07-01 02:44:58      Wells St & Concord Ln            289.0   \n",
              "2        2020-07-01 00:45:04     Wabash Ave & Wacker Pl            194.0   \n",
              "3        2020-07-01 02:52:16      Wells St & Concord Ln            289.0   \n",
              "4        2020-07-01 00:08:03         State St & 33rd St            148.0   \n",
              "...                      ...                        ...              ...   \n",
              "4025498  2021-07-01 00:06:09      Calumet Ave & 18th St            13102   \n",
              "4025499  2021-07-01 00:04:21  Ashland Ave & Chicago Ave            13247   \n",
              "4025500  2021-07-01 00:06:11      Calumet Ave & 18th St            13102   \n",
              "4025501  2021-07-01 00:27:54     Michigan Ave & Lake St     TA1305000011   \n",
              "4025502  2021-07-01 00:36:07     Wabash Ave & Cermak Rd     TA1305000001   \n",
              "\n",
              "                             end_station_name end_station_id  start_lat  ...  \\\n",
              "0                         Buckingham Fountain            2.0  41.876511  ...   \n",
              "1                          Clark St & Lake St           38.0  41.912133  ...   \n",
              "2                      Wabash Ave & Wacker Pl          194.0  41.886875  ...   \n",
              "3                          Clark St & Lake St           38.0  41.912133  ...   \n",
              "4                         MLK Jr Dr & 29th St          237.0  41.834734  ...   \n",
              "...                                       ...            ...        ...  ...   \n",
              "4025498             Wabash Ave & Roosevelt Rd   TA1305000002  41.857611  ...   \n",
              "4025499  Damen Ave & Thomas St (Augusta Blvd)   TA1307000070  41.895966  ...   \n",
              "4025500             Wabash Ave & Roosevelt Rd   TA1305000002  41.857611  ...   \n",
              "4025501                Wabash Ave & Wacker Pl   TA1307000131  41.886024  ...   \n",
              "4025502             Sedgwick St & Webster Ave          13191  41.852619  ...   \n",
              "\n",
              "                    end_time      ride_length  start_date1 week_day  \\\n",
              "0        2020-07-01 01:28:12  0 days 01:27:58   2020-07-01  Tuesday   \n",
              "1        2020-07-01 02:44:58  0 days 02:44:43   2020-07-01  Tuesday   \n",
              "2        2020-07-01 00:45:04  0 days 00:44:15   2020-07-01  Tuesday   \n",
              "3        2020-07-01 02:52:16  0 days 02:51:26   2020-07-01  Tuesday   \n",
              "4        2020-07-01 00:08:03  0 days 00:06:52   2020-07-01  Tuesday   \n",
              "...                      ...              ...          ...      ...   \n",
              "4025498  2021-07-01 00:06:09  0 days 00:06:54   2021-06-30  Tuesday   \n",
              "4025499  2021-07-01 00:04:21  0 days 00:05:05   2021-06-30  Tuesday   \n",
              "4025500  2021-07-01 00:06:11  0 days 00:06:45   2021-06-30  Tuesday   \n",
              "4025501  2021-07-01 00:27:54  0 days 00:28:19   2021-06-30  Tuesday   \n",
              "4025502  2021-07-01 00:36:07  0 days 00:36:08   2021-06-30  Tuesday   \n",
              "\n",
              "                    x             y      distance  year month        ride_len  \n",
              "0        5.235720e-14  9.746473e-17  2.290298e-07  2020     7 0 days 01:27:58  \n",
              "1        6.818455e-04  1.428796e-05  2.638434e-02  2020     7 0 days 02:44:43  \n",
              "2        0.000000e+00  0.000000e+00  0.000000e+00  2020     7 0 days 00:44:15  \n",
              "3        6.818455e-04  1.428796e-05  2.638434e-02  2020     7 0 days 02:51:26  \n",
              "4        5.355312e-05  7.766897e-05  1.145522e-02  2020     7 0 days 00:06:52  \n",
              "...               ...           ...           ...   ...   ...             ...  \n",
              "4025498  9.246746e-05  4.295492e-05  1.163711e-02  2021     6 0 days 00:06:54  \n",
              "4025499  2.861180e-05  9.335424e-05  1.104382e-02  2021     6 0 days 00:05:05  \n",
              "4025500  9.246746e-05  4.295492e-05  1.163711e-02  2021     6 0 days 00:06:45  \n",
              "4025501  7.242010e-07  3.659569e-06  2.093745e-03  2021     6 0 days 00:28:19  \n",
              "4025502  4.836924e-03  1.537600e-04  7.064478e-02  2021     6 0 days 00:36:08  \n",
              "\n",
              "[4025503 rows x 25 columns]"
            ],
            "text/html": [
              "\n",
              "  <div id=\"df-2d1e5d74-5d2e-41cf-b8af-1e70c8c5b30e\">\n",
              "    <div class=\"colab-df-container\">\n",
              "      <div>\n",
              "<style scoped>\n",
              "    .dataframe tbody tr th:only-of-type {\n",
              "        vertical-align: middle;\n",
              "    }\n",
              "\n",
              "    .dataframe tbody tr th {\n",
              "        vertical-align: top;\n",
              "    }\n",
              "\n",
              "    .dataframe thead th {\n",
              "        text-align: right;\n",
              "    }\n",
              "</style>\n",
              "<table border=\"1\" class=\"dataframe\">\n",
              "  <thead>\n",
              "    <tr style=\"text-align: right;\">\n",
              "      <th></th>\n",
              "      <th>Unnamed: 0</th>\n",
              "      <th>ride_id</th>\n",
              "      <th>rideable_type</th>\n",
              "      <th>started_at</th>\n",
              "      <th>ended_at</th>\n",
              "      <th>start_station_name</th>\n",
              "      <th>start_station_id</th>\n",
              "      <th>end_station_name</th>\n",
              "      <th>end_station_id</th>\n",
              "      <th>start_lat</th>\n",
              "      <th>...</th>\n",
              "      <th>end_time</th>\n",
              "      <th>ride_length</th>\n",
              "      <th>start_date1</th>\n",
              "      <th>week_day</th>\n",
              "      <th>x</th>\n",
              "      <th>y</th>\n",
              "      <th>distance</th>\n",
              "      <th>year</th>\n",
              "      <th>month</th>\n",
              "      <th>ride_len</th>\n",
              "    </tr>\n",
              "  </thead>\n",
              "  <tbody>\n",
              "    <tr>\n",
              "      <th>0</th>\n",
              "      <td>275150</td>\n",
              "      <td>C66CC4DD911DDFBD</td>\n",
              "      <td>docked_bike</td>\n",
              "      <td>2020-07-01 00:00:14</td>\n",
              "      <td>2020-07-01 01:28:12</td>\n",
              "      <td>Buckingham Fountain</td>\n",
              "      <td>2.0</td>\n",
              "      <td>Buckingham Fountain</td>\n",
              "      <td>2.0</td>\n",
              "      <td>41.876511</td>\n",
              "      <td>...</td>\n",
              "      <td>2020-07-01 01:28:12</td>\n",
              "      <td>0 days 01:27:58</td>\n",
              "      <td>2020-07-01</td>\n",
              "      <td>Tuesday</td>\n",
              "      <td>5.235720e-14</td>\n",
              "      <td>9.746473e-17</td>\n",
              "      <td>2.290298e-07</td>\n",
              "      <td>2020</td>\n",
              "      <td>7</td>\n",
              "      <td>0 days 01:27:58</td>\n",
              "    </tr>\n",
              "    <tr>\n",
              "      <th>1</th>\n",
              "      <td>259045</td>\n",
              "      <td>BD6363747C00FAD3</td>\n",
              "      <td>docked_bike</td>\n",
              "      <td>2020-07-01 00:00:15</td>\n",
              "      <td>2020-07-01 02:44:58</td>\n",
              "      <td>Wells St &amp; Concord Ln</td>\n",
              "      <td>289.0</td>\n",
              "      <td>Clark St &amp; Lake St</td>\n",
              "      <td>38.0</td>\n",
              "      <td>41.912133</td>\n",
              "      <td>...</td>\n",
              "      <td>2020-07-01 02:44:58</td>\n",
              "      <td>0 days 02:44:43</td>\n",
              "      <td>2020-07-01</td>\n",
              "      <td>Tuesday</td>\n",
              "      <td>6.818455e-04</td>\n",
              "      <td>1.428796e-05</td>\n",
              "      <td>2.638434e-02</td>\n",
              "      <td>2020</td>\n",
              "      <td>7</td>\n",
              "      <td>0 days 02:44:43</td>\n",
              "    </tr>\n",
              "    <tr>\n",
              "      <th>2</th>\n",
              "      <td>236929</td>\n",
              "      <td>1856297CBD809E60</td>\n",
              "      <td>docked_bike</td>\n",
              "      <td>2020-07-01 00:00:49</td>\n",
              "      <td>2020-07-01 00:45:04</td>\n",
              "      <td>Wabash Ave &amp; Wacker Pl</td>\n",
              "      <td>194.0</td>\n",
              "      <td>Wabash Ave &amp; Wacker Pl</td>\n",
              "      <td>194.0</td>\n",
              "      <td>41.886875</td>\n",
              "      <td>...</td>\n",
              "      <td>2020-07-01 00:45:04</td>\n",
              "      <td>0 days 00:44:15</td>\n",
              "      <td>2020-07-01</td>\n",
              "      <td>Tuesday</td>\n",
              "      <td>0.000000e+00</td>\n",
              "      <td>0.000000e+00</td>\n",
              "      <td>0.000000e+00</td>\n",
              "      <td>2020</td>\n",
              "      <td>7</td>\n",
              "      <td>0 days 00:44:15</td>\n",
              "    </tr>\n",
              "    <tr>\n",
              "      <th>3</th>\n",
              "      <td>217019</td>\n",
              "      <td>06B27D89815F5031</td>\n",
              "      <td>docked_bike</td>\n",
              "      <td>2020-07-01 00:00:50</td>\n",
              "      <td>2020-07-01 02:52:16</td>\n",
              "      <td>Wells St &amp; Concord Ln</td>\n",
              "      <td>289.0</td>\n",
              "      <td>Clark St &amp; Lake St</td>\n",
              "      <td>38.0</td>\n",
              "      <td>41.912133</td>\n",
              "      <td>...</td>\n",
              "      <td>2020-07-01 02:52:16</td>\n",
              "      <td>0 days 02:51:26</td>\n",
              "      <td>2020-07-01</td>\n",
              "      <td>Tuesday</td>\n",
              "      <td>6.818455e-04</td>\n",
              "      <td>1.428796e-05</td>\n",
              "      <td>2.638434e-02</td>\n",
              "      <td>2020</td>\n",
              "      <td>7</td>\n",
              "      <td>0 days 02:51:26</td>\n",
              "    </tr>\n",
              "    <tr>\n",
              "      <th>4</th>\n",
              "      <td>195188</td>\n",
              "      <td>7F17B8FF6F418A7F</td>\n",
              "      <td>docked_bike</td>\n",
              "      <td>2020-07-01 00:01:11</td>\n",
              "      <td>2020-07-01 00:08:03</td>\n",
              "      <td>State St &amp; 33rd St</td>\n",
              "      <td>148.0</td>\n",
              "      <td>MLK Jr Dr &amp; 29th St</td>\n",
              "      <td>237.0</td>\n",
              "      <td>41.834734</td>\n",
              "      <td>...</td>\n",
              "      <td>2020-07-01 00:08:03</td>\n",
              "      <td>0 days 00:06:52</td>\n",
              "      <td>2020-07-01</td>\n",
              "      <td>Tuesday</td>\n",
              "      <td>5.355312e-05</td>\n",
              "      <td>7.766897e-05</td>\n",
              "      <td>1.145522e-02</td>\n",
              "      <td>2020</td>\n",
              "      <td>7</td>\n",
              "      <td>0 days 00:06:52</td>\n",
              "    </tr>\n",
              "    <tr>\n",
              "      <th>...</th>\n",
              "      <td>...</td>\n",
              "      <td>...</td>\n",
              "      <td>...</td>\n",
              "      <td>...</td>\n",
              "      <td>...</td>\n",
              "      <td>...</td>\n",
              "      <td>...</td>\n",
              "      <td>...</td>\n",
              "      <td>...</td>\n",
              "      <td>...</td>\n",
              "      <td>...</td>\n",
              "      <td>...</td>\n",
              "      <td>...</td>\n",
              "      <td>...</td>\n",
              "      <td>...</td>\n",
              "      <td>...</td>\n",
              "      <td>...</td>\n",
              "      <td>...</td>\n",
              "      <td>...</td>\n",
              "      <td>...</td>\n",
              "      <td>...</td>\n",
              "    </tr>\n",
              "    <tr>\n",
              "      <th>4025498</th>\n",
              "      <td>675978</td>\n",
              "      <td>E25F3A2D6AF8F001</td>\n",
              "      <td>classic_bike</td>\n",
              "      <td>2021-06-30 23:59:15</td>\n",
              "      <td>2021-07-01 00:06:09</td>\n",
              "      <td>Calumet Ave &amp; 18th St</td>\n",
              "      <td>13102</td>\n",
              "      <td>Wabash Ave &amp; Roosevelt Rd</td>\n",
              "      <td>TA1305000002</td>\n",
              "      <td>41.857611</td>\n",
              "      <td>...</td>\n",
              "      <td>2021-07-01 00:06:09</td>\n",
              "      <td>0 days 00:06:54</td>\n",
              "      <td>2021-06-30</td>\n",
              "      <td>Tuesday</td>\n",
              "      <td>9.246746e-05</td>\n",
              "      <td>4.295492e-05</td>\n",
              "      <td>1.163711e-02</td>\n",
              "      <td>2021</td>\n",
              "      <td>6</td>\n",
              "      <td>0 days 00:06:54</td>\n",
              "    </tr>\n",
              "    <tr>\n",
              "      <th>4025499</th>\n",
              "      <td>582358</td>\n",
              "      <td>F67C4ACB3CCEC518</td>\n",
              "      <td>classic_bike</td>\n",
              "      <td>2021-06-30 23:59:16</td>\n",
              "      <td>2021-07-01 00:04:21</td>\n",
              "      <td>Ashland Ave &amp; Chicago Ave</td>\n",
              "      <td>13247</td>\n",
              "      <td>Damen Ave &amp; Thomas St (Augusta Blvd)</td>\n",
              "      <td>TA1307000070</td>\n",
              "      <td>41.895966</td>\n",
              "      <td>...</td>\n",
              "      <td>2021-07-01 00:04:21</td>\n",
              "      <td>0 days 00:05:05</td>\n",
              "      <td>2021-06-30</td>\n",
              "      <td>Tuesday</td>\n",
              "      <td>2.861180e-05</td>\n",
              "      <td>9.335424e-05</td>\n",
              "      <td>1.104382e-02</td>\n",
              "      <td>2021</td>\n",
              "      <td>6</td>\n",
              "      <td>0 days 00:05:05</td>\n",
              "    </tr>\n",
              "    <tr>\n",
              "      <th>4025500</th>\n",
              "      <td>16931</td>\n",
              "      <td>B6A748160720820F</td>\n",
              "      <td>classic_bike</td>\n",
              "      <td>2021-06-30 23:59:26</td>\n",
              "      <td>2021-07-01 00:06:11</td>\n",
              "      <td>Calumet Ave &amp; 18th St</td>\n",
              "      <td>13102</td>\n",
              "      <td>Wabash Ave &amp; Roosevelt Rd</td>\n",
              "      <td>TA1305000002</td>\n",
              "      <td>41.857611</td>\n",
              "      <td>...</td>\n",
              "      <td>2021-07-01 00:06:11</td>\n",
              "      <td>0 days 00:06:45</td>\n",
              "      <td>2021-06-30</td>\n",
              "      <td>Tuesday</td>\n",
              "      <td>9.246746e-05</td>\n",
              "      <td>4.295492e-05</td>\n",
              "      <td>1.163711e-02</td>\n",
              "      <td>2021</td>\n",
              "      <td>6</td>\n",
              "      <td>0 days 00:06:45</td>\n",
              "    </tr>\n",
              "    <tr>\n",
              "      <th>4025501</th>\n",
              "      <td>626434</td>\n",
              "      <td>5F69DFB0122DC3D8</td>\n",
              "      <td>classic_bike</td>\n",
              "      <td>2021-06-30 23:59:35</td>\n",
              "      <td>2021-07-01 00:27:54</td>\n",
              "      <td>Michigan Ave &amp; Lake St</td>\n",
              "      <td>TA1305000011</td>\n",
              "      <td>Wabash Ave &amp; Wacker Pl</td>\n",
              "      <td>TA1307000131</td>\n",
              "      <td>41.886024</td>\n",
              "      <td>...</td>\n",
              "      <td>2021-07-01 00:27:54</td>\n",
              "      <td>0 days 00:28:19</td>\n",
              "      <td>2021-06-30</td>\n",
              "      <td>Tuesday</td>\n",
              "      <td>7.242010e-07</td>\n",
              "      <td>3.659569e-06</td>\n",
              "      <td>2.093745e-03</td>\n",
              "      <td>2021</td>\n",
              "      <td>6</td>\n",
              "      <td>0 days 00:28:19</td>\n",
              "    </tr>\n",
              "    <tr>\n",
              "      <th>4025502</th>\n",
              "      <td>156646</td>\n",
              "      <td>428577054CA0238A</td>\n",
              "      <td>classic_bike</td>\n",
              "      <td>2021-06-30 23:59:59</td>\n",
              "      <td>2021-07-01 00:36:07</td>\n",
              "      <td>Wabash Ave &amp; Cermak Rd</td>\n",
              "      <td>TA1305000001</td>\n",
              "      <td>Sedgwick St &amp; Webster Ave</td>\n",
              "      <td>13191</td>\n",
              "      <td>41.852619</td>\n",
              "      <td>...</td>\n",
              "      <td>2021-07-01 00:36:07</td>\n",
              "      <td>0 days 00:36:08</td>\n",
              "      <td>2021-06-30</td>\n",
              "      <td>Tuesday</td>\n",
              "      <td>4.836924e-03</td>\n",
              "      <td>1.537600e-04</td>\n",
              "      <td>7.064478e-02</td>\n",
              "      <td>2021</td>\n",
              "      <td>6</td>\n",
              "      <td>0 days 00:36:08</td>\n",
              "    </tr>\n",
              "  </tbody>\n",
              "</table>\n",
              "<p>4025503 rows × 25 columns</p>\n",
              "</div>\n",
              "      <button class=\"colab-df-convert\" onclick=\"convertToInteractive('df-2d1e5d74-5d2e-41cf-b8af-1e70c8c5b30e')\"\n",
              "              title=\"Convert this dataframe to an interactive table.\"\n",
              "              style=\"display:none;\">\n",
              "        \n",
              "  <svg xmlns=\"http://www.w3.org/2000/svg\" height=\"24px\"viewBox=\"0 0 24 24\"\n",
              "       width=\"24px\">\n",
              "    <path d=\"M0 0h24v24H0V0z\" fill=\"none\"/>\n",
              "    <path d=\"M18.56 5.44l.94 2.06.94-2.06 2.06-.94-2.06-.94-.94-2.06-.94 2.06-2.06.94zm-11 1L8.5 8.5l.94-2.06 2.06-.94-2.06-.94L8.5 2.5l-.94 2.06-2.06.94zm10 10l.94 2.06.94-2.06 2.06-.94-2.06-.94-.94-2.06-.94 2.06-2.06.94z\"/><path d=\"M17.41 7.96l-1.37-1.37c-.4-.4-.92-.59-1.43-.59-.52 0-1.04.2-1.43.59L10.3 9.45l-7.72 7.72c-.78.78-.78 2.05 0 2.83L4 21.41c.39.39.9.59 1.41.59.51 0 1.02-.2 1.41-.59l7.78-7.78 2.81-2.81c.8-.78.8-2.07 0-2.86zM5.41 20L4 18.59l7.72-7.72 1.47 1.35L5.41 20z\"/>\n",
              "  </svg>\n",
              "      </button>\n",
              "      \n",
              "  <style>\n",
              "    .colab-df-container {\n",
              "      display:flex;\n",
              "      flex-wrap:wrap;\n",
              "      gap: 12px;\n",
              "    }\n",
              "\n",
              "    .colab-df-convert {\n",
              "      background-color: #E8F0FE;\n",
              "      border: none;\n",
              "      border-radius: 50%;\n",
              "      cursor: pointer;\n",
              "      display: none;\n",
              "      fill: #1967D2;\n",
              "      height: 32px;\n",
              "      padding: 0 0 0 0;\n",
              "      width: 32px;\n",
              "    }\n",
              "\n",
              "    .colab-df-convert:hover {\n",
              "      background-color: #E2EBFA;\n",
              "      box-shadow: 0px 1px 2px rgba(60, 64, 67, 0.3), 0px 1px 3px 1px rgba(60, 64, 67, 0.15);\n",
              "      fill: #174EA6;\n",
              "    }\n",
              "\n",
              "    [theme=dark] .colab-df-convert {\n",
              "      background-color: #3B4455;\n",
              "      fill: #D2E3FC;\n",
              "    }\n",
              "\n",
              "    [theme=dark] .colab-df-convert:hover {\n",
              "      background-color: #434B5C;\n",
              "      box-shadow: 0px 1px 3px 1px rgba(0, 0, 0, 0.15);\n",
              "      filter: drop-shadow(0px 1px 2px rgba(0, 0, 0, 0.3));\n",
              "      fill: #FFFFFF;\n",
              "    }\n",
              "  </style>\n",
              "\n",
              "      <script>\n",
              "        const buttonEl =\n",
              "          document.querySelector('#df-2d1e5d74-5d2e-41cf-b8af-1e70c8c5b30e button.colab-df-convert');\n",
              "        buttonEl.style.display =\n",
              "          google.colab.kernel.accessAllowed ? 'block' : 'none';\n",
              "\n",
              "        async function convertToInteractive(key) {\n",
              "          const element = document.querySelector('#df-2d1e5d74-5d2e-41cf-b8af-1e70c8c5b30e');\n",
              "          const dataTable =\n",
              "            await google.colab.kernel.invokeFunction('convertToInteractive',\n",
              "                                                     [key], {});\n",
              "          if (!dataTable) return;\n",
              "\n",
              "          const docLinkHtml = 'Like what you see? Visit the ' +\n",
              "            '<a target=\"_blank\" href=https://colab.research.google.com/notebooks/data_table.ipynb>data table notebook</a>'\n",
              "            + ' to learn more about interactive tables.';\n",
              "          element.innerHTML = '';\n",
              "          dataTable['output_type'] = 'display_data';\n",
              "          await google.colab.output.renderOutput(dataTable, element);\n",
              "          const docLink = document.createElement('div');\n",
              "          docLink.innerHTML = docLinkHtml;\n",
              "          element.appendChild(docLink);\n",
              "        }\n",
              "      </script>\n",
              "    </div>\n",
              "  </div>\n",
              "  "
            ]
          },
          "metadata": {},
          "execution_count": 22
        }
      ]
    },
    {
      "cell_type": "code",
      "source": [
        "# To check if there are null values in dataframe\n",
        "cleaned_file.isnull().sum()"
      ],
      "metadata": {
        "colab": {
          "base_uri": "https://localhost:8080/"
        },
        "id": "ieXpNwwboHYy",
        "outputId": "4b49d13d-ee2e-41b3-a017-7bc0aaf94dfa"
      },
      "execution_count": 23,
      "outputs": [
        {
          "output_type": "execute_result",
          "data": {
            "text/plain": [
              "Unnamed: 0            0\n",
              "ride_id               0\n",
              "rideable_type         0\n",
              "started_at            0\n",
              "ended_at              0\n",
              "start_station_name    0\n",
              "start_station_id      0\n",
              "end_station_name      0\n",
              "end_station_id        0\n",
              "start_lat             0\n",
              "start_lng             0\n",
              "end_lat               0\n",
              "end_lng               0\n",
              "member_casual         0\n",
              "start_time            0\n",
              "end_time              0\n",
              "ride_length           0\n",
              "start_date1           0\n",
              "week_day              0\n",
              "x                     0\n",
              "y                     0\n",
              "distance              0\n",
              "year                  0\n",
              "month                 0\n",
              "ride_len              0\n",
              "dtype: int64"
            ]
          },
          "metadata": {},
          "execution_count": 23
        }
      ]
    },
    {
      "cell_type": "code",
      "source": [
        "# To check if there are any duplicate values in dataframe\n",
        "cleaned_file.duplicated().sum()"
      ],
      "metadata": {
        "colab": {
          "base_uri": "https://localhost:8080/"
        },
        "id": "3-BJkXZBoOwL",
        "outputId": "9209207f-c5ed-4c55-a025-34b8a924633e"
      },
      "execution_count": 24,
      "outputs": [
        {
          "output_type": "execute_result",
          "data": {
            "text/plain": [
              "0"
            ]
          },
          "metadata": {},
          "execution_count": 24
        }
      ]
    },
    {
      "cell_type": "markdown",
      "source": [
        "# ANALYSIS"
      ],
      "metadata": {
        "id": "5Ow9jgKWoYhu"
      }
    },
    {
      "cell_type": "code",
      "source": [
        "#To calculate mean of ride length of all types of users\n",
        "mean_ride_length = cleaned_file['ride_len'].mean()\n",
        "mean_ride_length"
      ],
      "metadata": {
        "colab": {
          "base_uri": "https://localhost:8080/"
        },
        "id": "agdHP8t6om6A",
        "outputId": "0a2fd04b-cf1b-4f3d-a4b2-cd0d52fbc8ff"
      },
      "execution_count": 25,
      "outputs": [
        {
          "output_type": "execute_result",
          "data": {
            "text/plain": [
              "Timedelta('0 days 00:24:09.360428994')"
            ]
          },
          "metadata": {},
          "execution_count": 25
        }
      ]
    },
    {
      "cell_type": "code",
      "source": [
        "#To calculate max of ride length of all types of users\n",
        "max_ride_length = cleaned_file['ride_len'].max()\n",
        "max_ride_length"
      ],
      "metadata": {
        "colab": {
          "base_uri": "https://localhost:8080/"
        },
        "id": "JwXyqiFzozkg",
        "outputId": "455a399c-72ab-423e-c090-2927f58c8f46"
      },
      "execution_count": 26,
      "outputs": [
        {
          "output_type": "execute_result",
          "data": {
            "text/plain": [
              "Timedelta('38 days 20:24:09')"
            ]
          },
          "metadata": {},
          "execution_count": 26
        }
      ]
    },
    {
      "cell_type": "code",
      "source": [
        "#To calculate min of ride length of all types of users\n",
        "min_ride_length = cleaned_file['ride_len'].max()\n",
        "min_ride_length"
      ],
      "metadata": {
        "colab": {
          "base_uri": "https://localhost:8080/"
        },
        "id": "s2cn0_zko57K",
        "outputId": "ab67e462-097b-486f-906c-0ca1024f6cc9"
      },
      "execution_count": 27,
      "outputs": [
        {
          "output_type": "execute_result",
          "data": {
            "text/plain": [
              "Timedelta('38 days 20:24:09')"
            ]
          },
          "metadata": {},
          "execution_count": 27
        }
      ]
    },
    {
      "cell_type": "code",
      "source": [
        "# To calculate mean ride length for member\n",
        "mean_ride_length_member = cleaned_file[cleaned_file['member_casual'] == 'member']\n",
        "mean_ride_length_member = mean_ride_length_member[\"ride_len\"].mean()\n",
        "mean_ride_length_member"
      ],
      "metadata": {
        "colab": {
          "base_uri": "https://localhost:8080/"
        },
        "id": "92LNgc-YpDh4",
        "outputId": "ae3d99c0-3cfb-4104-a5a6-6f6ef6aedfde"
      },
      "execution_count": 28,
      "outputs": [
        {
          "output_type": "execute_result",
          "data": {
            "text/plain": [
              "Timedelta('0 days 00:11:35.488927758')"
            ]
          },
          "metadata": {},
          "execution_count": 28
        }
      ]
    },
    {
      "cell_type": "code",
      "source": [
        "# To calculate mean ride length for casual\n",
        "mean_ride_length_casual = cleaned_file[cleaned_file['member_casual'] == 'casual']\n",
        "mean_ride_length_casual = mean_ride_length_casual[\"ride_len\"].mean()\n",
        "mean_ride_length_casual"
      ],
      "metadata": {
        "colab": {
          "base_uri": "https://localhost:8080/"
        },
        "id": "6lQnLPWXpiIg",
        "outputId": "3caa3bed-1ab3-46bb-cc57-7d0fc9bcbfe7"
      },
      "execution_count": 29,
      "outputs": [
        {
          "output_type": "execute_result",
          "data": {
            "text/plain": [
              "Timedelta('0 days 00:40:51.870952414')"
            ]
          },
          "metadata": {},
          "execution_count": 29
        }
      ]
    },
    {
      "cell_type": "code",
      "source": [
        "# To calculate max ride length for member\n",
        "max_ride_length_member = cleaned_file[cleaned_file['member_casual'] == 'member']\n",
        "max_ride_length_member = max_ride_length_member[\"ride_len\"].max()\n",
        "max_ride_length_member"
      ],
      "metadata": {
        "colab": {
          "base_uri": "https://localhost:8080/"
        },
        "id": "2j1Y3zNzpxaR",
        "outputId": "0f8ba1b6-958b-4a99-e478-5415a05b73a5"
      },
      "execution_count": 30,
      "outputs": [
        {
          "output_type": "execute_result",
          "data": {
            "text/plain": [
              "Timedelta('23 days 05:01:22')"
            ]
          },
          "metadata": {},
          "execution_count": 30
        }
      ]
    },
    {
      "cell_type": "code",
      "source": [
        "# To calculate max ride length for casual\n",
        "max_ride_length_casual = cleaned_file[cleaned_file['member_casual'] == 'member']\n",
        "max_ride_length_casual = max_ride_length_casual[\"ride_len\"].max()\n",
        "max_ride_length_casual"
      ],
      "metadata": {
        "colab": {
          "base_uri": "https://localhost:8080/"
        },
        "id": "UGLXX4JGp86A",
        "outputId": "cf11fb64-e29d-40e3-b9d7-55e883eb5bcb"
      },
      "execution_count": 31,
      "outputs": [
        {
          "output_type": "execute_result",
          "data": {
            "text/plain": [
              "Timedelta('23 days 05:01:22')"
            ]
          },
          "metadata": {},
          "execution_count": 31
        }
      ]
    },
    {
      "cell_type": "code",
      "source": [
        "# Calculate the mode of week_day for all types of users\n",
        "mode_week_day = cleaned_file[\"week_day\"].mode()\n",
        "mode_week_day"
      ],
      "metadata": {
        "colab": {
          "base_uri": "https://localhost:8080/"
        },
        "id": "YFhvGQuyqFlo",
        "outputId": "5474d8b6-e220-422b-f609-df2edc07950c"
      },
      "execution_count": 32,
      "outputs": [
        {
          "output_type": "execute_result",
          "data": {
            "text/plain": [
              "0    Friday\n",
              "Name: week_day, dtype: object"
            ]
          },
          "metadata": {},
          "execution_count": 32
        }
      ]
    },
    {
      "cell_type": "code",
      "source": [
        "# To calculate mode of week_day for member\n",
        "mode_week_day_member = cleaned_file[cleaned_file[\"member_casual\"] == \"member\"]\n",
        "mode_week_day_member = mode_week_day_member[\"week_day\"].mode()\n",
        "mode_week_day_member"
      ],
      "metadata": {
        "colab": {
          "base_uri": "https://localhost:8080/"
        },
        "id": "S0fHsdO1qHVh",
        "outputId": "917f553d-2bb1-4efa-cdc2-aa2f16000622"
      },
      "execution_count": 33,
      "outputs": [
        {
          "output_type": "execute_result",
          "data": {
            "text/plain": [
              "0    Tuesday\n",
              "Name: week_day, dtype: object"
            ]
          },
          "metadata": {},
          "execution_count": 33
        }
      ]
    },
    {
      "cell_type": "code",
      "source": [
        "# To calculate mode of week_day for casual\n",
        "mode_week_day_casual = cleaned_file[cleaned_file[\"member_casual\"] == \"casual\"]\n",
        "mode_week_day_casual = mode_week_day_casual[\"week_day\"].mode()\n",
        "mode_week_day_casual"
      ],
      "metadata": {
        "colab": {
          "base_uri": "https://localhost:8080/"
        },
        "id": "fbkdohLDqi3p",
        "outputId": "d330f01c-7684-4012-961d-890d021eaea7"
      },
      "execution_count": 34,
      "outputs": [
        {
          "output_type": "execute_result",
          "data": {
            "text/plain": [
              "0    Friday\n",
              "Name: week_day, dtype: object"
            ]
          },
          "metadata": {},
          "execution_count": 34
        }
      ]
    },
    {
      "cell_type": "code",
      "source": [
        "# Calculate the number of rides for users by week_day by adding Count of ride_id to Values\n",
        "dict1 = {\"Sunday\": 0, \"Monday\": 1, \"Tuesday\": 2, \"Wednesday\": 3, \"Thursday\": 4, \"Friday\":5, \"Saturday\": 6}\n",
        "cleaned_file['week_day'] = cleaned_file['week_day'].apply(lambda y: dict1[y])\n",
        "\n",
        "count_users_week_day = cleaned_file.groupby('week_day')['ride_id'].count()\n",
        "count_users_week_day = count_users_week_day.sort_index()\n",
        "count_users_week_day"
      ],
      "metadata": {
        "colab": {
          "base_uri": "https://localhost:8080/"
        },
        "id": "RAiTXGlGqoh8",
        "outputId": "8328c34e-fdcb-421f-afac-18df51053a34"
      },
      "execution_count": 35,
      "outputs": [
        {
          "output_type": "execute_result",
          "data": {
            "text/plain": [
              "week_day\n",
              "0    492594\n",
              "1    511069\n",
              "2    544916\n",
              "3    518999\n",
              "4    590976\n",
              "5    740118\n",
              "6    626831\n",
              "Name: ride_id, dtype: int64"
            ]
          },
          "metadata": {},
          "execution_count": 35
        }
      ]
    },
    {
      "cell_type": "code",
      "source": [
        "# Calculate the number of rides for member by week_day by adding Count of ride_id to Values\n",
        "count_member_week_day = cleaned_file[cleaned_file[\"member_casual\"] == \"member\"].groupby('week_day')['ride_id'].count()\n",
        "count_member_week_day"
      ],
      "metadata": {
        "colab": {
          "base_uri": "https://localhost:8080/"
        },
        "id": "ulP8h8F-rFG_",
        "outputId": "549f73dd-f43a-4cf7-b8b5-0a29e8cc9ff6"
      },
      "execution_count": 36,
      "outputs": [
        {
          "output_type": "execute_result",
          "data": {
            "text/plain": [
              "week_day\n",
              "0    306654\n",
              "1    331260\n",
              "2    354757\n",
              "3    331126\n",
              "4    340117\n",
              "5    340617\n",
              "6    293152\n",
              "Name: ride_id, dtype: int64"
            ]
          },
          "metadata": {},
          "execution_count": 36
        }
      ]
    },
    {
      "cell_type": "code",
      "source": [
        "# Calculate the number of rides for casual by week_day by adding Count of ride_id to Values\n",
        "count_casual_week_day = cleaned_file[cleaned_file[\"member_casual\"] == \"casual\"].groupby('week_day')['ride_id'].count()\n",
        "count_casual_week_day"
      ],
      "metadata": {
        "colab": {
          "base_uri": "https://localhost:8080/"
        },
        "id": "cc6Nj257rcic",
        "outputId": "105c4999-a7c6-441d-f9cd-98715199624d"
      },
      "execution_count": 37,
      "outputs": [
        {
          "output_type": "execute_result",
          "data": {
            "text/plain": [
              "week_day\n",
              "0    185940\n",
              "1    179809\n",
              "2    190159\n",
              "3    187873\n",
              "4    250859\n",
              "5    399501\n",
              "6    333679\n",
              "Name: ride_id, dtype: int64"
            ]
          },
          "metadata": {},
          "execution_count": 37
        }
      ]
    },
    {
      "cell_type": "code",
      "source": [
        "# To plot graph of Weekday Vs Number Of Rides\n",
        "plt.figure(figsize = (8,6))\n",
        "plt.plot(count_users_week_day.index, count_users_week_day.values)\n",
        "plt.plot(count_member_week_day.index, count_member_week_day.values)\n",
        "plt.plot(count_casual_week_day.index, count_casual_week_day.values)\n",
        "plt.title(\"Calculate the number of rides for different users by week_day by adding Count of ride_id to Values\")\n",
        "plt.legend([\"user\", \"member\", \"casual\"])\n",
        "labels = [\"Sunday\", \"Monday\", \"Tuesday\", \"Wednesday\", \"Thursday\", \"Friday\", \"Saturday\"]\n",
        "plt.xticks(count_casual_week_day.index, labels)\n",
        "plt.show()"
      ],
      "metadata": {
        "colab": {
          "base_uri": "https://localhost:8080/",
          "height": 545
        },
        "id": "_oMH_Cbnrgru",
        "outputId": "d2297c4f-a449-486c-f514-c436e55ae1d7"
      },
      "execution_count": 38,
      "outputs": [
        {
          "output_type": "display_data",
          "data": {
            "text/plain": [
              "<Figure size 800x600 with 1 Axes>"
            ],
            "image/png": "[encoded data removed]"
          },
          "metadata": {}
        }
      ]
    },
    {
      "cell_type": "code",
      "source": [
        "count_casual_week_day.index"
      ],
      "metadata": {
        "colab": {
          "base_uri": "https://localhost:8080/"
        },
        "id": "NF3WFIbd3IUD",
        "outputId": "06d640c8-de6a-48a7-9cf2-68022e85879a"
      },
      "execution_count": 39,
      "outputs": [
        {
          "output_type": "execute_result",
          "data": {
            "text/plain": [
              "Int64Index([0, 1, 2, 3, 4, 5, 6], dtype='int64', name='week_day')"
            ]
          },
          "metadata": {},
          "execution_count": 39
        }
      ]
    },
    {
      "cell_type": "code",
      "source": [
        "# Calculate the average ride_length for users by week_day\n",
        "user_avg_ride_len_week_day = cleaned_file.groupby(\"week_day\")['ride_len'].mean(numeric_only=False)\n",
        "user_avg_ride_len_week_day"
      ],
      "metadata": {
        "colab": {
          "base_uri": "https://localhost:8080/"
        },
        "id": "Lg1qa9K1wa7I",
        "outputId": "dc357187-26e1-47bb-9447-044014e0143f"
      },
      "execution_count": 40,
      "outputs": [
        {
          "output_type": "execute_result",
          "data": {
            "text/plain": [
              "week_day\n",
              "0   0 days 00:24:06.710595338\n",
              "1   0 days 00:04:27.933680187\n",
              "2   0 days 00:22:23.169934448\n",
              "3   0 days 00:22:39.126884637\n",
              "4   0 days 00:25:21.690127856\n",
              "5   0 days 00:31:24.290038885\n",
              "6   0 days 00:33:19.983402224\n",
              "Name: ride_len, dtype: timedelta64[ns]"
            ]
          },
          "metadata": {},
          "execution_count": 40
        }
      ]
    },
    {
      "cell_type": "code",
      "source": [
        "# Calculate the average ride_length for members by week_day\n",
        "member_avg_ride_len_week_day = cleaned_file[cleaned_file[\"member_casual\"] == \"member\"].groupby('week_day')['ride_len'].mean(numeric_only=False)\n",
        "member_avg_ride_len_week_day"
      ],
      "metadata": {
        "colab": {
          "base_uri": "https://localhost:8080/"
        },
        "id": "-YolrJ2Dwj0e",
        "outputId": "334a43ca-d9a2-4c8e-fe34-4cc700f62684"
      },
      "execution_count": 41,
      "outputs": [
        {
          "output_type": "execute_result",
          "data": {
            "text/plain": [
              "week_day\n",
              "0     0 days 00:14:13.133508775\n",
              "1   -1 days +23:51:37.289627483\n",
              "2     0 days 00:14:01.688383879\n",
              "3     0 days 00:13:58.298834884\n",
              "4     0 days 00:14:32.475189420\n",
              "5     0 days 00:16:19.305604241\n",
              "6     0 days 00:16:51.198811538\n",
              "Name: ride_len, dtype: timedelta64[ns]"
            ]
          },
          "metadata": {},
          "execution_count": 41
        }
      ]
    },
    {
      "cell_type": "code",
      "source": [
        "# Calculate the average ride_length for casual by week_day\n",
        "casual_avg_ride_len_week_day = cleaned_file[cleaned_file[\"member_casual\"] == \"casual\"].groupby('week_day')['ride_len'].mean(numeric_only=False)\n",
        "casual_avg_ride_len_week_day"
      ],
      "metadata": {
        "colab": {
          "base_uri": "https://localhost:8080/"
        },
        "id": "Rsp377vCwmse",
        "outputId": "70c852e7-3937-42b1-8386-1680f51e4977"
      },
      "execution_count": 42,
      "outputs": [
        {
          "output_type": "execute_result",
          "data": {
            "text/plain": [
              "week_day\n",
              "0   0 days 00:40:25.643519414\n",
              "1   0 days 00:28:07.682129370\n",
              "2   0 days 00:37:58.724341209\n",
              "3   0 days 00:37:57.085871838\n",
              "4   0 days 00:40:01.901869177\n",
              "5   0 days 00:44:15.885311926\n",
              "6   0 days 00:47:48.675109911\n",
              "Name: ride_len, dtype: timedelta64[ns]"
            ]
          },
          "metadata": {},
          "execution_count": 42
        }
      ]
    },
    {
      "cell_type": "code",
      "source": [
        "# To plot graph of Weekday Vs Average ride length\n",
        "plt.plot(user_avg_ride_len_week_day/pd.Timedelta(minutes=1))\n",
        "plt.plot(member_avg_ride_len_week_day/pd.Timedelta(minutes=1))\n",
        "plt.plot(casual_avg_ride_len_week_day/pd.Timedelta(minutes=1))\n",
        "plt.title(\"The average ride_length for different users by week_day\")\n",
        "plt.legend([\"user\", \"member\", \"casual\"])\n",
        "labels = [\"Sunday\", \"Monday\", \"Tuesday\", \"Wednesday\", \"Thursday\", \"Friday\", \"Saturday\"]\n",
        "plt.xticks(user_avg_ride_len_week_day.index, labels)\n",
        "plt.show()"
      ],
      "metadata": {
        "colab": {
          "base_uri": "https://localhost:8080/",
          "height": 452
        },
        "id": "DubqW_7ZwoyY",
        "outputId": "8a3aa879-5c81-40dd-8e32-bd4431eda9ad"
      },
      "execution_count": 43,
      "outputs": [
        {
          "output_type": "display_data",
          "data": {
            "text/plain": [
              "<Figure size 640x480 with 1 Axes>"
            ],
            "image/png": "[encoded data removed]"
          },
          "metadata": {}
        }
      ]
    },
    {
      "cell_type": "code",
      "source": [
        "# To extract important features of the dataframe into a new dataframe\n",
        "final_file = cleaned_file[[\"ride_id\", \"rideable_type\", \"ride_len\", \"week_day\", \"distance\", \"year\", \"month\", \"member_casual\"]]"
      ],
      "metadata": {
        "id": "jv1mxF54w4Kv"
      },
      "execution_count": 44,
      "outputs": []
    },
    {
      "cell_type": "code",
      "source": [
        "# To get the information of the dataframe\n",
        "final_file.info()"
      ],
      "metadata": {
        "colab": {
          "base_uri": "https://localhost:8080/"
        },
        "id": "RH91NH8xxCXm",
        "outputId": "cbaac72c-91c3-4165-956c-d8d00a5ab70c"
      },
      "execution_count": 45,
      "outputs": [
        {
          "output_type": "stream",
          "name": "stdout",
          "text": [
            "<class 'pandas.core.frame.DataFrame'>\n",
            "RangeIndex: 4025503 entries, 0 to 4025502\n",
            "Data columns (total 8 columns):\n",
            " #   Column         Dtype          \n",
            "---  ------         -----          \n",
            " 0   ride_id        object         \n",
            " 1   rideable_type  object         \n",
            " 2   ride_len       timedelta64[ns]\n",
            " 3   week_day       int64          \n",
            " 4   distance       float64        \n",
            " 5   year           int64          \n",
            " 6   month          int64          \n",
            " 7   member_casual  object         \n",
            "dtypes: float64(1), int64(3), object(3), timedelta64[ns](1)\n",
            "memory usage: 245.7+ MB\n"
          ]
        }
      ]
    },
    {
      "cell_type": "markdown",
      "source": [
        "# DATA ANALYSIS"
      ],
      "metadata": {
        "id": "aK1lYoHixH_b"
      }
    },
    {
      "cell_type": "code",
      "source": [
        "# To check the number of users in each type over past 12 months\n",
        "member_type = final_file['member_casual'].value_counts()\n",
        "member_type"
      ],
      "metadata": {
        "colab": {
          "base_uri": "https://localhost:8080/"
        },
        "id": "IU2LRbB0xMty",
        "outputId": "81404d63-7eca-40e0-86a4-76495cbfc7f5"
      },
      "execution_count": 46,
      "outputs": [
        {
          "output_type": "execute_result",
          "data": {
            "text/plain": [
              "member    2297683\n",
              "casual    1727820\n",
              "Name: member_casual, dtype: int64"
            ]
          },
          "metadata": {},
          "execution_count": 46
        }
      ]
    },
    {
      "cell_type": "code",
      "source": [
        "# To plot the count plot of users in each type\n",
        "plt.title(\"count of users in each type\")\n",
        "plt.bar(member_type.index, member_type.values)\n",
        "plt.show()"
      ],
      "metadata": {
        "colab": {
          "base_uri": "https://localhost:8080/",
          "height": 452
        },
        "id": "ylV9gPUsxZWN",
        "outputId": "5f56dcf4-d196-412b-c027-3904bc35a61d"
      },
      "execution_count": 47,
      "outputs": [
        {
          "output_type": "display_data",
          "data": {
            "text/plain": [
              "<Figure size 640x480 with 1 Axes>"
            ],
            "image/png": "[encoded data removed]"
          },
          "metadata": {}
        }
      ]
    },
    {
      "cell_type": "code",
      "source": [
        "# To plot the pie chart of users in each type\n",
        "plt.figure(figsize = (8,6))\n",
        "plt.pie(member_type.values, labels = member_type.index, autopct='%1.1f%%')\n",
        "plt.title(\"Percentage of users in each type\")\n",
        "plt.legend(member_type.index)\n",
        "plt.show()"
      ],
      "metadata": {
        "colab": {
          "base_uri": "https://localhost:8080/",
          "height": 521
        },
        "id": "JyqrHW3Fxhlu",
        "outputId": "420f9c9f-1984-4766-dcc8-7441336a1849"
      },
      "execution_count": 48,
      "outputs": [
        {
          "output_type": "display_data",
          "data": {
            "text/plain": [
              "<Figure size 800x600 with 1 Axes>"
            ],
            "image/png": "[encoded data removed]"
          },
          "metadata": {}
        }
      ]
    },
    {
      "cell_type": "code",
      "source": [
        "# To check the number of users over years\n",
        "users_over_year = final_file.groupby('year')['member_casual'].value_counts()\n",
        "users_over_year"
      ],
      "metadata": {
        "colab": {
          "base_uri": "https://localhost:8080/"
        },
        "id": "o-iGD_ZXyRZG",
        "outputId": "0fa9a037-effd-48e2-9cee-f990022a93bf"
      },
      "execution_count": 49,
      "outputs": [
        {
          "output_type": "execute_result",
          "data": {
            "text/plain": [
              "year  member_casual\n",
              "2020  member           1347894\n",
              "      casual            987434\n",
              "2021  member            949789\n",
              "      casual            740386\n",
              "Name: member_casual, dtype: int64"
            ]
          },
          "metadata": {},
          "execution_count": 49
        }
      ]
    },
    {
      "cell_type": "code",
      "source": [
        "# To segregate the number of users into member or casual riders over the years\n",
        "list_year = []\n",
        "list_x = []\n",
        "list_y = list(users_over_year.values)\n",
        "for i, j in users_over_year.index:\n",
        "  list_x.append(j)\n",
        "  list_year.append(str(i))"
      ],
      "metadata": {
        "id": "vxzd-N9Eyjef"
      },
      "execution_count": 50,
      "outputs": []
    },
    {
      "cell_type": "code",
      "source": [
        "sns.barplot(x=list_x, y=list_y, hue = list_year)\n",
        "plt.title(\"Count of Member and Casual Riders over the years\")\n",
        "plt.show()"
      ],
      "metadata": {
        "colab": {
          "base_uri": "https://localhost:8080/",
          "height": 452
        },
        "id": "TCB_31yNzVtW",
        "outputId": "edcefdf6-4c44-4eaa-c7c8-0d7ae06e3633"
      },
      "execution_count": 51,
      "outputs": [
        {
          "output_type": "display_data",
          "data": {
            "text/plain": [
              "<Figure size 640x480 with 1 Axes>"
            ],
            "image/png": "[encoded data removed]"
          },
          "metadata": {}
        }
      ]
    },
    {
      "cell_type": "code",
      "source": [
        "# To check the number of users over months\n",
        "users_over_month = final_file.groupby('month')['member_casual'].value_counts()\n",
        "users_over_month"
      ],
      "metadata": {
        "colab": {
          "base_uri": "https://localhost:8080/"
        },
        "id": "xQ4zwdqTz326",
        "outputId": "c936e9e7-9267-4bc6-e4af-091c469e38b8"
      },
      "execution_count": 52,
      "outputs": [
        {
          "output_type": "execute_result",
          "data": {
            "text/plain": [
              "month  member_casual\n",
              "1      member            68819\n",
              "       casual            14690\n",
              "2      member            34383\n",
              "       casual             8613\n",
              "3      member           130049\n",
              "       casual            75642\n",
              "4      member           177787\n",
              "       casual           120420\n",
              "5      member           234165\n",
              "       casual           216829\n",
              "6      member           304586\n",
              "       casual           304192\n",
              "7      member           281692\n",
              "       casual           268733\n",
              "8      member           325504\n",
              "       casual           283006\n",
              "9      member           285090\n",
              "       casual           215300\n",
              "10     member           216493\n",
              "       casual           122810\n",
              "11     member           149756\n",
              "       casual            73033\n",
              "12     member            89359\n",
              "       casual            24552\n",
              "Name: member_casual, dtype: int64"
            ]
          },
          "metadata": {},
          "execution_count": 52
        }
      ]
    },
    {
      "cell_type": "code",
      "source": [
        "# To segregate the number of users into member or casual riders over the months\n",
        "list_month = []\n",
        "list_x = []\n",
        "list_y = list(users_over_month.values)\n",
        "for i, j in users_over_month.index:\n",
        "  list_x.append(j)\n",
        "  list_month.append(str(i))"
      ],
      "metadata": {
        "id": "xEnkzvd8z9Hr"
      },
      "execution_count": 53,
      "outputs": []
    },
    {
      "cell_type": "code",
      "source": [
        "# Plot count of Member and Casual Riders over the months\n",
        "plt.figure(figsize = (18,8))\n",
        "sns.barplot(x=list_x, y=list_y, hue = list_month)\n",
        "plt.title(\"Count of Member and Casual Riders over the months\")"
      ],
      "metadata": {
        "colab": {
          "base_uri": "https://localhost:8080/",
          "height": 549
        },
        "id": "lEEbVJnF0ARH",
        "outputId": "cd28884a-9129-4c20-9363-787f02ccb573"
      },
      "execution_count": 54,
      "outputs": [
        {
          "output_type": "execute_result",
          "data": {
            "text/plain": [
              "Text(0.5, 1.0, 'Count of Member and Casual Riders over the months')"
            ]
          },
          "metadata": {},
          "execution_count": 54
        },
        {
          "output_type": "display_data",
          "data": {
            "text/plain": [
              "<Figure size 1800x800 with 1 Axes>"
            ],
            "image/png": "[encoded data removed]"
          },
          "metadata": {}
        }
      ]
    },
    {
      "cell_type": "code",
      "source": [
        "# To check the number of users for a particulat rideable_type\n",
        "ride_type = final_file.groupby(\"member_casual\")[\"rideable_type\"].value_counts()\n",
        "ride_type"
      ],
      "metadata": {
        "colab": {
          "base_uri": "https://localhost:8080/"
        },
        "id": "0aWc9pAP0GF9",
        "outputId": "f039df78-75d5-470f-87d9-9df469010a0e"
      },
      "execution_count": 55,
      "outputs": [
        {
          "output_type": "execute_result",
          "data": {
            "text/plain": [
              "member_casual  rideable_type\n",
              "casual         docked_bike       969539\n",
              "               classic_bike      451826\n",
              "               electric_bike     306455\n",
              "member         docked_bike      1077368\n",
              "               classic_bike      823033\n",
              "               electric_bike     397282\n",
              "Name: rideable_type, dtype: int64"
            ]
          },
          "metadata": {},
          "execution_count": 55
        }
      ]
    },
    {
      "cell_type": "code",
      "source": [
        "# To segregate the number of users into member or casual riders based on ride type\n",
        "list_member = []\n",
        "list_x = []\n",
        "list_y = list(ride_type.values)\n",
        "for i, j in ride_type.index:\n",
        "  list_x.append(j)\n",
        "  list_member.append(str(i))"
      ],
      "metadata": {
        "id": "cpF1r8FV0LLc"
      },
      "execution_count": 56,
      "outputs": []
    },
    {
      "cell_type": "code",
      "source": [
        "# To plot number of users into member or casual riders based on ride type\n",
        "plt.figure(figsize = (18,8))\n",
        "sns.barplot(x=list_x, y=list_y, hue=list_member)\n",
        "plt.title(\"Count of Member and Casual Riders over the months\")"
      ],
      "metadata": {
        "colab": {
          "base_uri": "https://localhost:8080/",
          "height": 560
        },
        "id": "78PUHmHY0Okc",
        "outputId": "c6e3018a-1750-45e0-d651-52ef97804c3f"
      },
      "execution_count": 57,
      "outputs": [
        {
          "output_type": "execute_result",
          "data": {
            "text/plain": [
              "Text(0.5, 1.0, 'Count of Member and Casual Riders over the months')"
            ]
          },
          "metadata": {},
          "execution_count": 57
        },
        {
          "output_type": "display_data",
          "data": {
            "text/plain": [
              "<Figure size 1800x800 with 1 Axes>"
            ],
            "image/png": "[encoded data removed]"
          },
          "metadata": {}
        }
      ]
    }
  ]
}